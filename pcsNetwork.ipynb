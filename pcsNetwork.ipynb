{
 "cells": [
  {
   "cell_type": "code",
   "execution_count": 1,
   "metadata": {},
   "outputs": [],
   "source": [
    "import numpy as np\n",
    "import itertools as iter\n",
    "import pandas as pd\n",
    "import sklearn.metrics as sklm\n",
    "import music21 as m21"
   ]
  },
  {
   "cell_type": "code",
   "execution_count": 2,
   "metadata": {},
   "outputs": [],
   "source": [
    "from pcsPy import *"
   ]
  },
  {
   "cell_type": "code",
   "execution_count": 3,
   "metadata": {},
   "outputs": [],
   "source": [
    "# cardinality range\n",
    "Nc_i = 3\n",
    "Nc_f = 4"
   ]
  },
  {
   "cell_type": "code",
   "execution_count": null,
   "metadata": {},
   "outputs": [],
   "source": [
    "# On the prime form ordered set\n",
    "\n",
    "name = []\n",
    "prime = []\n",
    "commonName = []\n",
    "for n in range(Nc_i,Nc_f+1):\n",
    "    # generate all possible combinations of n integers\n",
    "    a = np.asarray(list(iter.combinations(range(12),n)))\n",
    "    # put all pcs in prime form\n",
    "    s = []\n",
    "    for i in range(a.shape[0]):\n",
    "        p = PCSet(a[i,:])\n",
    "        s.append(p.primeForm()[:])\n",
    "\n",
    "    s = np.asarray(s)\n",
    "    # eliminate duplicates\n",
    "    s = np.unique(s,axis=0)\n",
    "    # calculate interval vectors and assign names\n",
    "    v = []\n",
    "    for i in range(s.shape[0]):\n",
    "        p = PCSet(s[i,:])\n",
    "        v.append(p.intervalVector())\n",
    "        name.append(str(n)+'-'+str(i+1))\n",
    "        prime.append(np.array2string(s[i,:],separator='').replace(\" \",\"\"))\n",
    "        commonName.append(m21.chord.Chord(np.ndarray.tolist(s[i])).commonName)\n",
    "\n",
    "    v = np.asarray(v)\n",
    "    s = np.asarray(s)\n",
    "    \n",
    "    if n == Nc_i: \n",
    "        vector=v\n",
    "    else:\n",
    "        vector = np.vstack((vector,v))\n",
    "\n",
    "# find pc sets in Z relation\n",
    "u, indeces = np.unique(vector, return_inverse=True,axis=0)\n",
    "ZrelT = []\n",
    "for n in range(u.shape[0]):\n",
    "    if np.array(np.where(indeces == n)).shape[1] != 1:\n",
    "        indx = np.array(np.where(indeces == n))[0]\n",
    "        Zrel = []\n",
    "        for m in range(indx.shape[0]):\n",
    "            name[indx[m]] = name[indx[m]]+'Z'\n",
    "            Zrel.append(name[indx[m]])\n",
    "        ZrelT.append(Zrel)\n",
    "\n",
    "name = np.asarray(name)"
   ]
  },
  {
   "cell_type": "code",
   "execution_count": null,
   "metadata": {},
   "outputs": [],
   "source": [
    "for n in range(len(name)):\n",
    "    print(name[n],',',prime[n],',',np.array2string(vector[n,:],separator='').replace(\" \",\"\"),',',\n",
    "          commonName[n])"
   ]
  },
  {
   "cell_type": "code",
   "execution_count": null,
   "metadata": {},
   "outputs": [],
   "source": [
    "for i in range(len(ZrelT)):\n",
    "    print(ZrelT[i])"
   ]
  },
  {
   "cell_type": "code",
   "execution_count": null,
   "metadata": {},
   "outputs": [],
   "source": [
    "# write csv\n",
    "df = pd.DataFrame(name,columns=['Label'])\n",
    "df.to_csv('nodes.csv')"
   ]
  },
  {
   "cell_type": "code",
   "execution_count": null,
   "metadata": {},
   "outputs": [],
   "source": [
    "N = vector.shape[0]\n",
    "dist = np.zeros((int((N**2-N)/2+N),3))\n",
    "n = 0\n",
    "for i in range(N):\n",
    "    for j in range(i,N):\n",
    "        pair = sklm.pairwise.paired_euclidean_distances(vector[i].reshape(1, -1),vector[j].reshape(1, -1))\n",
    "        if pair <= 1.5 and pair != 0:\n",
    "            dist[n,0] = i\n",
    "            dist[n,1] = j\n",
    "            dist[n,2] = sklm.pairwise.paired_euclidean_distances(vector[i].reshape(1, -1),vector[j].reshape(1, -1))\n",
    "            n += 1\n",
    "dist = dist[:n]"
   ]
  },
  {
   "cell_type": "code",
   "execution_count": null,
   "metadata": {},
   "outputs": [],
   "source": [
    "# Create dictionary of pitch class sets\n",
    "reference = []\n",
    "for n in range(len(name)):\n",
    "    entry = [name[n],prime[n],np.array2string(vector[n,:],separator='').replace(\" \",\"\"),\n",
    "          commonName[n]]\n",
    "    reference.append(entry)\n",
    "\n",
    "dictionary = pd.DataFrame(reference,columns=['class','pcs','interval','name'])\n",
    "\n",
    "dict_class = dictionary.set_index(\"class\", drop = True)\n",
    "dict_pcs = dictionary.set_index(\"pcs\", drop = True)\n",
    "dict_interval = dictionary.set_index(\"interval\", drop = True)\n",
    "dict_name = dictionary.set_index(\"name\", drop = True)"
   ]
  },
  {
   "cell_type": "code",
   "execution_count": null,
   "metadata": {},
   "outputs": [],
   "source": [
    "dict_interval.loc[\"[020202]\"]"
   ]
  },
  {
   "cell_type": "code",
   "execution_count": null,
   "metadata": {},
   "outputs": [],
   "source": [
    "# format print and write csv\n",
    "df2 = pd.DataFrame(dist,columns=['Source','Target','Weight'])\n",
    "#df2.style.format({'i': '{:,.0f}'.format,'j': '{:,.0f}'.format,'Weight': '{:,.8f}'.format,})\n",
    "df2.to_csv('edges.csv')"
   ]
  },
  {
   "cell_type": "code",
   "execution_count": null,
   "metadata": {},
   "outputs": [],
   "source": [
    "ptest = PCSet(np.array([0,4,7,9]))\n",
    "print(ptest.primeForm(),ptest.forteClass())"
   ]
  },
  {
   "cell_type": "code",
   "execution_count": null,
   "metadata": {},
   "outputs": [],
   "source": [
    "m21.chord.Chord(np.ndarray.tolist(np.array([0,4,7]))).commonName"
   ]
  },
  {
   "cell_type": "code",
   "execution_count": null,
   "metadata": {},
   "outputs": [],
   "source": [
    "p = PCSet([0,4,7,11])"
   ]
  },
  {
   "cell_type": "code",
   "execution_count": null,
   "metadata": {},
   "outputs": [],
   "source": [
    "p.normal0Order()"
   ]
  },
  {
   "cell_type": "code",
   "execution_count": 4,
   "metadata": {},
   "outputs": [],
   "source": [
    "# on the 0-th normal ordered set\n",
    "\n",
    "name = []\n",
    "prime = []\n",
    "commonName = []\n",
    "for n in range(Nc_i,Nc_f+1):\n",
    "    # generate all possible combinations of n integers\n",
    "    a = np.asarray(list(iter.combinations(range(12),n)))\n",
    "    # put all pcs in prime form\n",
    "    s = []\n",
    "    for i in range(a.shape[0]):\n",
    "        p = PCSet(a[i,:])\n",
    "        s.append(p.normal0Order()[:])\n",
    "\n",
    "    s = np.asarray(s)\n",
    "    # eliminate duplicates\n",
    "    s = np.unique(s,axis=0)\n",
    "    # calculate interval vectors and assign names\n",
    "    v = []\n",
    "    for i in range(s.shape[0]):\n",
    "        p = PCSet(s[i,:])\n",
    "        v.append(p.intervalVector())\n",
    "        name.append(str(n)+'-'+str(i+1))\n",
    "        prime.append(np.array2string(s[i,:],separator='').replace(\" \",\"\"))\n",
    "        commonName.append(m21.chord.Chord(np.ndarray.tolist(s[i])).commonName)\n",
    "\n",
    "    v = np.asarray(v)\n",
    "    s = np.asarray(s)\n",
    "    \n",
    "    if n == Nc_i: \n",
    "        vector=v\n",
    "    else:\n",
    "        vector = np.vstack((vector,v))\n",
    "\n",
    "# find pc sets in Z relation\n",
    "u, indeces = np.unique(vector, return_inverse=True,axis=0)\n",
    "ZrelT = []\n",
    "for n in range(u.shape[0]):\n",
    "    if np.array(np.where(indeces == n)).shape[1] != 1:\n",
    "        indx = np.array(np.where(indeces == n))[0]\n",
    "        Zrel = []\n",
    "        for m in range(indx.shape[0]):\n",
    "            name[indx[m]] = name[indx[m]]+'Z'\n",
    "            Zrel.append(name[indx[m]])\n",
    "        ZrelT.append(Zrel)\n",
    "\n",
    "name = np.asarray(name)"
   ]
  },
  {
   "cell_type": "code",
   "execution_count": 5,
   "metadata": {},
   "outputs": [
    {
     "name": "stdout",
     "output_type": "stream",
     "text": [
      "3-1 , [012] , [210000] , chromatic trimirror\n",
      "3-2Z , [013] , [111000] , phrygian trichord\n",
      "3-3Z , [014] , [101100] , major-minor trichord\n",
      "3-4Z , [015] , [100110] , incomplete major-seventh chord\n",
      "3-5Z , [016] , [100011] , tritone-fourth\n",
      "3-6Z , [023] , [111000] , minor trichord\n",
      "3-7 , [024] , [020100] , whole-tone trichord\n",
      "3-8Z , [025] , [011010] , incomplete minor-seventh chord\n",
      "3-9Z , [026] , [010101] , incomplete dominant-seventh chord\n",
      "3-10 , [027] , [010020] , quartal trichord\n",
      "3-11Z , [034] , [101100] , major-minor trichord\n",
      "3-12Z , [035] , [011010] , incomplete dominant-seventh chord\n",
      "3-13 , [036] , [002001] , diminished triad\n",
      "3-14Z , [037] , [001110] , minor triad\n",
      "3-15Z , [045] , [100110] , incomplete major-seventh chord\n",
      "3-16Z , [046] , [010101] , incomplete half-diminished seventh chord\n",
      "3-17Z , [047] , [001110] , major triad\n",
      "3-18 , [048] , [000300] , augmented triad\n",
      "3-19Z , [056] , [100011] , tritone-fourth\n",
      "4-1 , [0123] , [321000] , chromatic tetramirror\n",
      "4-2Z , [0124] , [221100] , major-second tetracluster\n",
      "4-3Z , [0125] , [211110] , minor third tetracluster\n",
      "4-4Z , [0126] , [210111] , major third tetracluster\n",
      "4-5 , [0127] , [210021] , perfect fourth tetramirror\n",
      "4-6 , [0134] , [212100] , alternating tetramirror\n",
      "4-7Z , [0135] , [121110] , phrygian tetrachord\n",
      "4-8Z , [0136] , [112011] , minor-second diminished tetrachord\n",
      "4-9Z , [0137] , [111111] , all-interval tetrachord\n",
      "4-10 , [0145] , [201210] , Arabian tetramirror\n",
      "4-11Z , [0146] , [111111] , all-interval tetrachord\n",
      "4-12Z , [0147] , [102111] , major-diminished tetrachord\n",
      "4-13Z , [0148] , [101310] , minor-augmented tetrachord\n",
      "4-14 , [0156] , [200121] , double-fourth tetramirror\n",
      "4-15Z , [0157] , [110121] , minor-second quartal tetrachord\n",
      "4-16 , [0158] , [101220] , major seventh chord\n",
      "4-17Z , [0167] , [200022] , double tritone tetramirror\n",
      "4-18Z , [0234] , [221100] , major-second tetracluster\n",
      "4-19 , [0235] , [122010] , minor tetramirror\n",
      "4-20Z , [0236] , [112101] , harmonic minor tetrachord\n",
      "4-21Z , [0237] , [111120] , major-second minor tetrachord\n",
      "4-22Z , [0245] , [121110] , lydian tetrachord\n",
      "4-23 , [0246] , [030201] , whole-tone tetramirror\n",
      "4-24Z , [0247] , [021120] , major-second major tetrachord\n",
      "4-25 , [0248] , [020301] , augmented seventh chord\n",
      "4-26Z , [0256] , [111111] , all-interval tetrachord\n",
      "4-27 , [0257] , [021030] , quartal tetramirror\n",
      "4-28Z , [0258] , [012111] , half-diminished seventh chord\n",
      "4-29Z , [0267] , [110121] , tritone quartal tetrachord\n",
      "4-30Z , [0268] , [020202] , Messiaen's truncated mode 6\n",
      "4-31Z , [0345] , [211110] , minor third tetracluster\n",
      "4-32Z , [0346] , [112101] , major-third diminished terachord\n",
      "4-33 , [0347] , [102210] , major-minor tetramirror\n",
      "4-34Z , [0348] , [101310] , augmented major tetrachord\n",
      "4-35Z , [0356] , [112011] , perfect-fourth diminished tetrachord\n",
      "4-36Z , [0357] , [021120] , perfect-fourth minor tetrachord\n",
      "4-37 , [0358] , [012120] , minor seventh chord\n",
      "4-38Z , [0367] , [102111] , minor-diminished tetrachord\n",
      "4-39Z , [0368] , [012111] , dominant seventh chord\n",
      "4-40 , [0369] , [004002] , diminished seventh chord\n",
      "4-41Z , [0456] , [210111] , major third testacluster\n",
      "4-42Z , [0457] , [111120] , perfect-fourth major tetrachord\n",
      "4-43Z , [0467] , [111111] , all-interval tetrachord\n",
      "4-44Z , [04610] , [020202] , Messiaen's truncated mode 6\n",
      "4-45Z , [05611] , [200022] , double tritone tetramirror\n"
     ]
    }
   ],
   "source": [
    "for n in range(len(name)):\n",
    "    print(name[n],',',prime[n],',',np.array2string(vector[n,:],separator='').replace(\" \",\"\"),',',\n",
    "          commonName[n])"
   ]
  },
  {
   "cell_type": "code",
   "execution_count": 6,
   "metadata": {},
   "outputs": [
    {
     "name": "stdout",
     "output_type": "stream",
     "text": [
      "['3-14Z', '3-17Z']\n",
      "['3-9Z', '3-16Z']\n",
      "['3-8Z', '3-12Z']\n",
      "['4-28Z', '4-39Z']\n",
      "['4-30Z', '4-44Z']\n",
      "['4-24Z', '4-36Z']\n",
      "['3-5Z', '3-19Z']\n",
      "['3-4Z', '3-15Z']\n",
      "['3-3Z', '3-11Z']\n",
      "['4-13Z', '4-34Z']\n",
      "['4-12Z', '4-38Z']\n",
      "['4-15Z', '4-29Z']\n",
      "['3-2Z', '3-6Z']\n",
      "['4-9Z', '4-11Z', '4-26Z', '4-43Z']\n",
      "['4-21Z', '4-42Z']\n",
      "['4-8Z', '4-35Z']\n",
      "['4-20Z', '4-32Z']\n",
      "['4-7Z', '4-22Z']\n",
      "['4-17Z', '4-45Z']\n",
      "['4-4Z', '4-41Z']\n",
      "['4-3Z', '4-31Z']\n",
      "['4-2Z', '4-18Z']\n"
     ]
    }
   ],
   "source": [
    "for i in range(len(ZrelT)):\n",
    "    print(ZrelT[i])"
   ]
  },
  {
   "cell_type": "code",
   "execution_count": null,
   "metadata": {},
   "outputs": [],
   "source": [
    "# write csv\n",
    "df = pd.DataFrame(name,columns=['Label'])\n",
    "df.to_csv('nodes_all.csv')"
   ]
  },
  {
   "cell_type": "code",
   "execution_count": null,
   "metadata": {},
   "outputs": [],
   "source": [
    "N = vector.shape[0]\n",
    "dist = np.zeros((int((N**2-N)/2+N),3))\n",
    "n = 0\n",
    "for i in range(N):\n",
    "    for j in range(i,N):\n",
    "        pair = sklm.pairwise.paired_euclidean_distances(vector[i].reshape(1, -1),vector[j].reshape(1, -1))\n",
    "        if pair == 0: pair = 1\n",
    "        if pair <= 1.5:\n",
    "            dist[n,0] = i\n",
    "            dist[n,1] = j\n",
    "            dist[n,2] = 1/pair\n",
    "            n += 1\n",
    "dist = dist[:n]"
   ]
  },
  {
   "cell_type": "code",
   "execution_count": null,
   "metadata": {},
   "outputs": [],
   "source": [
    "dist.shape"
   ]
  },
  {
   "cell_type": "code",
   "execution_count": null,
   "metadata": {},
   "outputs": [],
   "source": [
    "# format print and write csv\n",
    "df2 = pd.DataFrame(dist,columns=['Source','Target','Weight'])\n",
    "#df2.style.format({'i': '{:,.0f}'.format,'j': '{:,.0f}'.format,'Weight': '{:,.8f}'.format,})\n",
    "df2.to_csv('edges_all.csv')"
   ]
  },
  {
   "cell_type": "code",
   "execution_count": 7,
   "metadata": {},
   "outputs": [],
   "source": [
    "# Create dictionary of pitch class sets\n",
    "reference = []\n",
    "for n in range(len(name)):\n",
    "    entry = [name[n],prime[n],np.array2string(vector[n,:],separator='').replace(\" \",\"\"),\n",
    "          commonName[n]]\n",
    "    reference.append(entry)\n",
    "\n",
    "dictionary = pd.DataFrame(reference,columns=['class','pcs','interval','name'])\n",
    "\n",
    "dict_class = dictionary.set_index(\"class\", drop = True)\n",
    "dict_pcs = dictionary.set_index(\"pcs\", drop = True)\n",
    "dict_interval = dictionary.set_index(\"interval\", drop = True)\n",
    "dict_name = dictionary.set_index(\"name\", drop = True)"
   ]
  },
  {
   "cell_type": "code",
   "execution_count": 11,
   "metadata": {},
   "outputs": [
    {
     "data": {
      "text/html": [
       "<div>\n",
       "<style scoped>\n",
       "    .dataframe tbody tr th:only-of-type {\n",
       "        vertical-align: middle;\n",
       "    }\n",
       "\n",
       "    .dataframe tbody tr th {\n",
       "        vertical-align: top;\n",
       "    }\n",
       "\n",
       "    .dataframe thead th {\n",
       "        text-align: right;\n",
       "    }\n",
       "</style>\n",
       "<table border=\"1\" class=\"dataframe\">\n",
       "  <thead>\n",
       "    <tr style=\"text-align: right;\">\n",
       "      <th></th>\n",
       "      <th>class</th>\n",
       "      <th>pcs</th>\n",
       "      <th>name</th>\n",
       "    </tr>\n",
       "    <tr>\n",
       "      <th>interval</th>\n",
       "      <th></th>\n",
       "      <th></th>\n",
       "      <th></th>\n",
       "    </tr>\n",
       "  </thead>\n",
       "  <tbody>\n",
       "    <tr>\n",
       "      <th>[100110]</th>\n",
       "      <td>3-4Z</td>\n",
       "      <td>[015]</td>\n",
       "      <td>incomplete major-seventh chord</td>\n",
       "    </tr>\n",
       "    <tr>\n",
       "      <th>[100110]</th>\n",
       "      <td>3-15Z</td>\n",
       "      <td>[045]</td>\n",
       "      <td>incomplete major-seventh chord</td>\n",
       "    </tr>\n",
       "  </tbody>\n",
       "</table>\n",
       "</div>"
      ],
      "text/plain": [
       "          class    pcs                            name\n",
       "interval                                              \n",
       "[100110]   3-4Z  [015]  incomplete major-seventh chord\n",
       "[100110]  3-15Z  [045]  incomplete major-seventh chord"
      ]
     },
     "execution_count": 11,
     "metadata": {},
     "output_type": "execute_result"
    }
   ],
   "source": [
    "dict_interval.loc['[100110]']"
   ]
  },
  {
   "cell_type": "code",
   "execution_count": null,
   "metadata": {},
   "outputs": [],
   "source": []
  }
 ],
 "metadata": {
  "kernelspec": {
   "display_name": "Python 3",
   "language": "python",
   "name": "python3"
  },
  "language_info": {
   "codemirror_mode": {
    "name": "ipython",
    "version": 3
   },
   "file_extension": ".py",
   "mimetype": "text/x-python",
   "name": "python",
   "nbconvert_exporter": "python",
   "pygments_lexer": "ipython3",
   "version": "3.6.3"
  }
 },
 "nbformat": 4,
 "nbformat_minor": 2
}
