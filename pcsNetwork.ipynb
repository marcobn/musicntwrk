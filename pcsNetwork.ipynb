{
 "cells": [
  {
   "cell_type": "code",
   "execution_count": 2,
   "metadata": {},
   "outputs": [],
   "source": [
    "import numpy as np\n",
    "import itertools as iter"
   ]
  },
  {
   "cell_type": "code",
   "execution_count": 3,
   "metadata": {},
   "outputs": [],
   "source": [
    "from pcsPy import *"
   ]
  },
  {
   "cell_type": "code",
   "execution_count": 72,
   "metadata": {},
   "outputs": [],
   "source": [
    "name = []\n",
    "prime = []\n",
    "for n in range(1,12+1):\n",
    "    \n",
    "    a = np.asarray(list(iter.combinations(range(12),n)))\n",
    "\n",
    "    s = []\n",
    "    for i in range(a.shape[0]):\n",
    "        p = PCSet(a[i,:])\n",
    "        s.append(p.primeForm()[:])\n",
    "\n",
    "    s = np.asarray(s)\n",
    "\n",
    "    s = np.unique(s,axis=0)\n",
    "\n",
    "    v = []\n",
    "    for i in range(s.shape[0]):\n",
    "        p = PCSet(s[i,:])\n",
    "        v.append(p.intervalVector())\n",
    "        name.append(str(n)+'-'+str(i+1))\n",
    "        prime.append(np.array2string(s[i,:],separator='').replace(\" \",\"\"))\n",
    "\n",
    "    v = np.asarray(v)\n",
    "    s = np.asarray(s)\n",
    "    \n",
    "    if n == 1: \n",
    "        vector=v\n",
    "    else:\n",
    "        vector = np.vstack((vector,v))\n",
    "\n",
    "name = np.asarray(name)\n",
    "prime = np.asarray(prime)"
   ]
  },
  {
   "cell_type": "code",
   "execution_count": 73,
   "metadata": {},
   "outputs": [],
   "source": [
    "u, indices = np.unique(vector, return_inverse=True,axis=0)"
   ]
  },
  {
   "cell_type": "code",
   "execution_count": 74,
   "metadata": {},
   "outputs": [],
   "source": [
    "for n in range(u.shape[0]):\n",
    "    if np.array(np.where(indices == n)).shape[1] != 1:\n",
    "        indx = np.array(np.where(indices == n))[0]\n",
    "        for m in range(indx.shape[0]):\n",
    "            name[indx[m]] = name[indx[m]]+'Z'      "
   ]
  },
  {
   "cell_type": "code",
   "execution_count": 75,
   "metadata": {},
   "outputs": [
    {
     "data": {
      "text/plain": [
       "array(['1-1', '2-1', '2-2Z', '2-3Z', '2-4Z', '2-5Z', '2-6', '2-7Z',\n",
       "       '2-8Z', '2-9Z', '2-10', '3-1', '3-2', '3-3', '3-4', '3-5', '3-6',\n",
       "       '3-7', '3-8', '3-9', '3-10', '3-11', '3-12', '4-1', '4-2', '4-3',\n",
       "       '4-4', '4-5', '4-6', '4-7', '4-8', '4-9Z', '4-10', '4-11', '4-12',\n",
       "       '4-13', '4-14', '4-15', '4-16', '4-17', '4-18', '4-19', '4-20',\n",
       "       '4-21', '4-22', '4-23', '4-24', '4-25', '4-26', '4-27', '4-28',\n",
       "       '4-29', '4-30', '5-1', '5-2', '5-3', '5-4', '5-5', '5-6', '5-7Z',\n",
       "       '5-8', '5-9', '5-10', '5-11', '5-12', '5-13', '5-14', '5-15',\n",
       "       '5-16', '5-17', '5-18', '5-19', '5-20', '5-21', '5-22', '5-23',\n",
       "       '5-24', '5-25', '5-26', '5-27', '5-28', '5-29', '5-30', '5-31',\n",
       "       '5-32', '5-33', '5-34', '5-35', '5-36', '5-37', '5-38', '5-39',\n",
       "       '6-1', '6-2', '6-3Z', '6-4Z', '6-5Z', '6-6', '6-7Z', '6-8', '6-9Z',\n",
       "       '6-10', '6-11', '6-12', '6-13', '6-14', '6-15', '6-16', '6-17',\n",
       "       '6-18', '6-19', '6-20', '6-21', '6-22', '6-23', '6-24', '6-25',\n",
       "       '6-26', '6-27', '6-28', '6-29', '6-30', '6-31', '6-32', '6-33',\n",
       "       '6-34', '6-35', '6-36', '6-37', '6-38', '6-39', '6-40', '6-41',\n",
       "       '6-42', '6-43', '6-44', '6-45', '6-46', '6-47', '6-48', '6-49',\n",
       "       '6-50', '6-51', '6-52', '6-53', '6-54', '7-1', '7-2', '7-3', '7-4',\n",
       "       '7-5', '7-6', '7-7', '7-8Z', '7-9', '7-10', '7-11', '7-12', '7-13',\n",
       "       '7-14', '7-15', '7-16', '7-17', '7-18', '7-19', '7-20', '7-21',\n",
       "       '7-22', '7-23', '7-24', '7-25', '7-26', '7-27', '7-28', '7-29',\n",
       "       '7-30', '7-31', '7-32', '7-33', '7-34', '7-35', '7-36', '7-37',\n",
       "       '7-38', '8-1', '8-2', '8-3', '8-4', '8-5', '8-6', '8-7', '8-8',\n",
       "       '8-9Z', '8-10', '8-11', '8-12', '8-13', '8-14', '8-15', '8-16',\n",
       "       '8-17', '8-18', '8-19', '8-20', '8-21', '8-22', '8-23', '8-24',\n",
       "       '8-25', '8-26', '8-27', '8-28', '8-29', '8-30', '8-31', '8-32',\n",
       "       '9-1', '9-2', '9-3', '9-4', '9-5', '9-6', '9-7', '9-8', '9-9',\n",
       "       '9-10', '9-11', '9-12', '9-13', '10-1', '10-2', '10-3', '10-4',\n",
       "       '10-5', '10-6', '10-7', '10-8', '11-1', '12-1'], dtype='<U4')"
      ]
     },
     "execution_count": 75,
     "metadata": {},
     "output_type": "execute_result"
    }
   ],
   "source": [
    "name"
   ]
  },
  {
   "cell_type": "code",
   "execution_count": null,
   "metadata": {},
   "outputs": [],
   "source": []
  },
  {
   "cell_type": "code",
   "execution_count": null,
   "metadata": {},
   "outputs": [],
   "source": []
  }
 ],
 "metadata": {
  "kernelspec": {
   "display_name": "Python 3",
   "language": "python",
   "name": "python3"
  }
 },
 "nbformat": 4,
 "nbformat_minor": 2
}
