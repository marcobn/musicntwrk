{
 "cells": [
  {
   "cell_type": "code",
   "execution_count": 1,
   "metadata": {},
   "outputs": [],
   "source": [
    "import numpy as np\n",
    "import itertools as iter\n",
    "import pandas as pd\n",
    "import sklearn.metrics as sklm"
   ]
  },
  {
   "cell_type": "code",
   "execution_count": 34,
   "metadata": {},
   "outputs": [],
   "source": [
    "from pcsPy import *"
   ]
  },
  {
   "cell_type": "code",
   "execution_count": 77,
   "metadata": {},
   "outputs": [],
   "source": [
    "# cardinality range\n",
    "Nc_i = 3\n",
    "Nc_f = 4"
   ]
  },
  {
   "cell_type": "code",
   "execution_count": 78,
   "metadata": {},
   "outputs": [],
   "source": [
    "name = []\n",
    "prime = []\n",
    "for n in range(Nc_i,Nc_f+1):\n",
    "    # generate all possible combinations of n integers\n",
    "    a = np.asarray(list(iter.combinations(range(12),n)))\n",
    "    # put all pcs in prime form\n",
    "    s = []\n",
    "    for i in range(a.shape[0]):\n",
    "        p = PCSet(a[i,:])\n",
    "        s.append(p.primeForm()[:])\n",
    "\n",
    "    s = np.asarray(s)\n",
    "    # eliminate duplicates\n",
    "    s = np.unique(s,axis=0)\n",
    "    # calculate interval vectors and assign names\n",
    "    v = []\n",
    "    for i in range(s.shape[0]):\n",
    "        p = PCSet(s[i,:])\n",
    "        v.append(p.intervalVector())\n",
    "        name.append(str(n)+'-'+str(i+1))\n",
    "        prime.append(np.array2string(s[i,:],separator='').replace(\" \",\"\"))\n",
    "\n",
    "    v = np.asarray(v)\n",
    "    s = np.asarray(s)\n",
    "    \n",
    "    if n == Nc_i: \n",
    "        vector=v\n",
    "    else:\n",
    "        vector = np.vstack((vector,v))\n",
    "\n",
    "# find pc sets in Z relation\n",
    "u, indeces = np.unique(vector, return_inverse=True,axis=0)\n",
    "ZrelT = []\n",
    "for n in range(u.shape[0]):\n",
    "    if np.array(np.where(indeces == n)).shape[1] != 1:\n",
    "        indx = np.array(np.where(indeces == n))[0]\n",
    "        Zrel = []\n",
    "        for m in range(indx.shape[0]):\n",
    "            name[indx[m]] = name[indx[m]]+'Z'\n",
    "            Zrel.append(name[indx[m]])\n",
    "        ZrelT.append(Zrel)\n",
    "\n",
    "name = np.asarray(name)"
   ]
  },
  {
   "cell_type": "code",
   "execution_count": 80,
   "metadata": {},
   "outputs": [
    {
     "name": "stdout",
     "output_type": "stream",
     "text": [
      "3-1 [012] [210000]\n",
      "3-2 [013] [111000]\n",
      "3-3 [014] [101100]\n",
      "3-4 [015] [100110]\n",
      "3-5 [016] [100011]\n",
      "3-6 [024] [020100]\n",
      "3-7 [025] [011010]\n",
      "3-8 [026] [010101]\n",
      "3-9 [027] [010020]\n",
      "3-10 [036] [002001]\n",
      "3-11 [037] [001110]\n",
      "3-12 [048] [000300]\n",
      "4-1 [0123] [321000]\n",
      "4-2 [0124] [221100]\n",
      "4-3 [0125] [211110]\n",
      "4-4 [0126] [210111]\n",
      "4-5 [0127] [210021]\n",
      "4-6 [0134] [212100]\n",
      "4-7 [0135] [121110]\n",
      "4-8 [0136] [112011]\n",
      "4-9Z [0137] [111111]\n",
      "4-10 [0145] [201210]\n",
      "4-11Z [0146] [111111]\n",
      "4-12 [0147] [102111]\n",
      "4-13 [0148] [101310]\n",
      "4-14 [0156] [200121]\n",
      "4-15 [0157] [110121]\n",
      "4-16 [0158] [101220]\n",
      "4-17 [0167] [200022]\n",
      "4-18 [0235] [122010]\n",
      "4-19 [0236] [112101]\n",
      "4-20 [0237] [111120]\n",
      "4-21 [0246] [030201]\n",
      "4-22 [0247] [021120]\n",
      "4-23 [0248] [020301]\n",
      "4-24 [0257] [021030]\n",
      "4-25 [0258] [012111]\n",
      "4-26Z [0268] [020202]\n",
      "4-27 [0347] [102210]\n",
      "4-28 [0358] [012120]\n",
      "4-29 [0369] [004002]\n",
      "4-30Z [04610] [020202]\n"
     ]
    }
   ],
   "source": [
    "for n in range(len(name)):\n",
    "    print(name[n],prime[n],np.array2string(vector[n,:],separator='').replace(\" \",\"\"))"
   ]
  },
  {
   "cell_type": "code",
   "execution_count": 84,
   "metadata": {},
   "outputs": [
    {
     "name": "stdout",
     "output_type": "stream",
     "text": [
      "['4-26Z', '4-30Z']\n",
      "['4-9Z', '4-11Z']\n"
     ]
    }
   ],
   "source": [
    "for i in range(len(ZrelT)):\n",
    "    print(ZrelT[i])"
   ]
  },
  {
   "cell_type": "code",
   "execution_count": 14,
   "metadata": {},
   "outputs": [],
   "source": [
    "# write csv\n",
    "df = pd.DataFrame(name,columns=['Label'])\n",
    "df.to_csv('nodes.csv')"
   ]
  },
  {
   "cell_type": "code",
   "execution_count": 85,
   "metadata": {},
   "outputs": [],
   "source": [
    "N = vector.shape[0]\n",
    "dist = np.zeros((int((N**2-N)/2+N),3))\n",
    "n = 0\n",
    "for i in range(N):\n",
    "    for j in range(i,N):\n",
    "        pair = sklm.pairwise.paired_euclidean_distances(vector[i].reshape(1, -1),vector[j].reshape(1, -1))\n",
    "        if pair <= 2.0 and pair != 0:\n",
    "            dist[n,0] = i\n",
    "            dist[n,1] = j\n",
    "            dist[n,2] = sklm.pairwise.paired_euclidean_distances(vector[i].reshape(1, -1),vector[j].reshape(1, -1))\n",
    "            n += 1\n",
    "dist = dist[:n]"
   ]
  },
  {
   "cell_type": "code",
   "execution_count": 86,
   "metadata": {},
   "outputs": [
    {
     "data": {
      "text/plain": [
       "(247, 3)"
      ]
     },
     "execution_count": 86,
     "metadata": {},
     "output_type": "execute_result"
    }
   ],
   "source": [
    "dist.shape"
   ]
  },
  {
   "cell_type": "code",
   "execution_count": 29,
   "metadata": {},
   "outputs": [],
   "source": [
    "# format print and write csv\n",
    "df2 = pd.DataFrame(dist,columns=['Source','Target','Weight'])\n",
    "#df2.style.format({'i': '{:,.0f}'.format,'j': '{:,.0f}'.format,'Weight': '{:,.8f}'.format,})\n",
    "df2.to_csv('edges.csv')"
   ]
  },
  {
   "cell_type": "code",
   "execution_count": 95,
   "metadata": {},
   "outputs": [
    {
     "name": "stdout",
     "output_type": "stream",
     "text": [
      "[0 3 7] [3-11]\n"
     ]
    }
   ],
   "source": [
    "ptest = PCSet(np.array([1,5,8]))\n",
    "print(ptest.primeForm(),ptest.forteClass())"
   ]
  },
  {
   "cell_type": "code",
   "execution_count": null,
   "metadata": {},
   "outputs": [],
   "source": []
  }
 ],
 "metadata": {
  "kernelspec": {
   "display_name": "Python 3",
   "language": "python",
   "name": "python3"
  },
  "language_info": {
   "codemirror_mode": {
    "name": "ipython",
    "version": 3
   },
   "file_extension": ".py",
   "mimetype": "text/x-python",
   "name": "python",
   "nbconvert_exporter": "python",
   "pygments_lexer": "ipython3",
   "version": "3.6.3"
  }
 },
 "nbformat": 4,
 "nbformat_minor": 2
}
