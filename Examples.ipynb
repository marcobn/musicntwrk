{
 "cells": [
  {
   "cell_type": "markdown",
   "metadata": {},
   "source": [
    "## pcsPy\n",
    "\n",
    " A python library for pitch class set and rhythmic sequences classification and manipulation, and\n",
    " the generation of networks in generalized musical spaces\n",
    "\n",
    " Copyright (C) 2018 Marco Buongiorno Nardelli\n",
    " http://www.materialssoundmusic.com, mbn@unt.edu\n",
    "\n",
    " This file is distributed under the terms of the\n",
    " GNU General Public License. See the file `License'\n",
    " in the root directory of the present distribution,\n",
    " or http://www.gnu.org/copyleft/gpl.txt .\n",
    "\n",
    "The network files in csv format can be directly imported in visualization programs like Gephi (www.gephi.org)\n",
    "\n",
    "Results can be compared with reference files in /REFERENCE"
   ]
  },
  {
   "cell_type": "markdown",
   "metadata": {},
   "source": [
    "Import modules - pcsPy and rhythmPy need the correct path"
   ]
  },
  {
   "cell_type": "code",
   "execution_count": 1,
   "metadata": {},
   "outputs": [],
   "source": [
    "import re, sys, os\n",
    "import numpy as np\n",
    "import itertools as iter\n",
    "import pandas as pd\n",
    "import sklearn.metrics as sklm\n",
    "import music21 as m21\n",
    "import networkx as nx\n",
    "import community as cm\n",
    "import matplotlib.pyplot as plt\n",
    "\n",
    "sys.path.append('/Users/marco/Dropbox (Personal)/Musica/Applications/pcsPy')\n",
    "from pcsPy import *\n",
    "from rhythmPy import *"
   ]
  },
  {
   "cell_type": "markdown",
   "metadata": {},
   "source": [
    "Generation and classification of the full dictionary of pcs of cardinality 2 to 12 in 12TET"
   ]
  },
  {
   "cell_type": "code",
   "execution_count": 2,
   "metadata": {},
   "outputs": [],
   "source": [
    "full =  None\n",
    "z = None\n",
    "temp = []\n",
    "for i in range(2,13):\n",
    "    full,z = pcsDictionary(i,TET=12)\n",
    "    temp.append(full)\n",
    "full = pd.concat(temp,axis=0)\n",
    "full.to_csv('12TET_dictionary.csv',index=False)"
   ]
  },
  {
   "cell_type": "markdown",
   "metadata": {},
   "source": [
    "Generation of the network based on the interval vector distances between 1 and 3"
   ]
  },
  {
   "cell_type": "code",
   "execution_count": 3,
   "metadata": {},
   "outputs": [],
   "source": [
    "# in output it writes: nodes.csv, edges.csv\n",
    "dnodes, dedges = pcsNetwork('12TET_dictionary.csv',thup=3.1,thdw=1.1)"
   ]
  },
  {
   "cell_type": "markdown",
   "metadata": {},
   "source": [
    "Generation of the ego network based on the interval vector distance from node _7-34_ (major scale)"
   ]
  },
  {
   "cell_type": "code",
   "execution_count": 4,
   "metadata": {},
   "outputs": [],
   "source": [
    "# in output it writes: nodes_ego.csv, edges_ego.csv, edges_alters.csv\n",
    "pcsEgoNetwork('7-34','12TET_dictionary.csv',thup_e=3.0,thdw_e=0.1,thup=1.5,thdw=0.1)"
   ]
  },
  {
   "cell_type": "markdown",
   "metadata": {},
   "source": [
    "generation of voice leading network for the panchromatic triadic space based on the interval vector distance for __O__(1)<br>"
   ]
  },
  {
   "cell_type": "code",
   "execution_count": 5,
   "metadata": {},
   "outputs": [],
   "source": [
    "full,z = pcsDictionary(3,TET=12,order=1)\n",
    "full.to_csv('triads.csv',index=False)\n",
    "dnodes,dedges = vLeadNetwork('triads.csv',thup=1.5,thdw=0.1)\n",
    "dnodes.to_csv('vLead_nodes.csv',index=False)\n",
    "dedges.to_csv('vLead_edges.csv',index=False)"
   ]
  },
  {
   "cell_type": "markdown",
   "metadata": {},
   "source": [
    "Anaysis of J.S. Bach chorale from BWV66<br>\n",
    "musicxml file from music21 corpus"
   ]
  },
  {
   "cell_type": "code",
   "execution_count": 6,
   "metadata": {},
   "outputs": [],
   "source": [
    "bachChorale = m21.corpus.parse('bwv66.6')\n",
    "chords = bachChorale.chordify()\n",
    "seq = []\n",
    "for c in chords.recurse().getElementsByClass('Chord'):\n",
    "    seq.append(c.normalOrder)\n",
    "\n",
    "# build dictionary\n",
    "dictionary = scoreDictionary(seq)\n",
    "dictionary.to_csv('bachChorale.csv',index=False)\n",
    "\n",
    "# build network\n",
    "dnodes,dedges,deg,modul = scoreNetwork(seq)\n",
    "dnodes.to_csv('JSB_nodes.csv',index=False)\n",
    "dedges.to_csv('JSB_edges.csv',index=False)"
   ]
  },
  {
   "cell_type": "markdown",
   "metadata": {},
   "source": [
    "Generation and classification of the rhythmic cells  of cardinality 3 in a given sequence"
   ]
  },
  {
   "cell_type": "code",
   "execution_count": 9,
   "metadata": {},
   "outputs": [],
   "source": [
    "dictionary,_ = rhythmDictionary(3,a=['q','q','e','e','ed','s'],REF='s')\n",
    "dictionary.to_csv('rhythm.csv',index=False)"
   ]
  },
  {
   "cell_type": "markdown",
   "metadata": {},
   "source": [
    "Generation of the network based on the duration interval vector"
   ]
  },
  {
   "cell_type": "code",
   "execution_count": 10,
   "metadata": {},
   "outputs": [],
   "source": [
    "nodes,edges = rhythmNetwork('rhythm.csv',thup=50,thdw=0.1)"
   ]
  },
  {
   "cell_type": "markdown",
   "metadata": {},
   "source": [
    "generation of voice leading network for the cells of cardinality 3 of the rhythmic sequence above"
   ]
  },
  {
   "cell_type": "code",
   "execution_count": 11,
   "metadata": {},
   "outputs": [],
   "source": [
    "rnodes,redges = rLeadNetwork('rhythm.csv',thup=50,thdw=0.1)\n",
    "rnodes.to_csv('rLead_nodes.csv',index=False)\n",
    "redges.to_csv('rLead_edges.csv',index=False)"
   ]
  },
  {
   "cell_type": "code",
   "execution_count": null,
   "metadata": {},
   "outputs": [],
   "source": []
  }
 ],
 "metadata": {
  "kernelspec": {
   "display_name": "Python 3",
   "language": "python",
   "name": "python3"
  },
  "language_info": {
   "codemirror_mode": {
    "name": "ipython",
    "version": 3
   },
   "file_extension": ".py",
   "mimetype": "text/x-python",
   "name": "python",
   "nbconvert_exporter": "python",
   "pygments_lexer": "ipython3",
   "version": "3.6.5"
  }
 },
 "nbformat": 4,
 "nbformat_minor": 2
}
