{
 "cells": [
  {
   "cell_type": "markdown",
   "metadata": {},
   "source": [
    "## Workbook of tonal harmony\n",
    "#### Analysis of the string quartet Op. 59 n.3 mov. 1 (Introduzione) from music21"
   ]
  },
  {
   "cell_type": "code",
   "execution_count": 1,
   "metadata": {},
   "outputs": [
    {
     "data": {
      "text/html": [
       "<div id=\"glowscript\" class=\"glowscript\"></div>"
      ],
      "text/plain": [
       "<IPython.core.display.HTML object>"
      ]
     },
     "metadata": {},
     "output_type": "display_data"
    },
    {
     "data": {
      "application/javascript": [
       "if (typeof Jupyter !== \"undefined\") { window.__context = { glowscript_container: $(\"#glowscript\").removeAttr(\"id\")};}else{ element.textContent = ' ';}"
      ],
      "text/plain": [
       "<IPython.core.display.Javascript object>"
      ]
     },
     "metadata": {},
     "output_type": "display_data"
    }
   ],
   "source": [
    "from pcsPy import *\n",
    "import pickle, copy\n",
    "from IPython.display import Image \n",
    "sys.path.append('../')\n",
    "from tonalHarmonyDefs import enharmonicDictionary, shortHands, scoreAnalysis, tonalPartition, showAnalysis"
   ]
  },
  {
   "cell_type": "markdown",
   "metadata": {},
   "source": [
    "Here we define the tonal space using the ABC database. A tonal space is the matrix of all the operators that connect the chords of a chord library as roman numerals.\n",
    "Typical models are built using combinations of basic chord symbols and possible extension. "
   ]
  },
  {
   "cell_type": "code",
   "execution_count": 37,
   "metadata": {},
   "outputs": [],
   "source": [
    "scoretvs = '/Users/marco/Dropbox (Personal)/Musica/Applications/musicntwrk/RESULTS/MUSICOLOGY/Beethoven/ABC-1.0/data/tsv/op. 127 No. 12/op127_no12_mov1.tsv'"
   ]
  },
  {
   "cell_type": "code",
   "execution_count": 38,
   "metadata": {},
   "outputs": [],
   "source": [
    "abc_dataset = pd.read_csv(scoretvs,sep='\\t')"
   ]
  },
  {
   "cell_type": "code",
   "execution_count": 10,
   "metadata": {},
   "outputs": [
    {
     "data": {
      "text/html": [
       "<div>\n",
       "<style scoped>\n",
       "    .dataframe tbody tr th:only-of-type {\n",
       "        vertical-align: middle;\n",
       "    }\n",
       "\n",
       "    .dataframe tbody tr th {\n",
       "        vertical-align: top;\n",
       "    }\n",
       "\n",
       "    .dataframe thead th {\n",
       "        text-align: right;\n",
       "    }\n",
       "</style>\n",
       "<table border=\"1\" class=\"dataframe\">\n",
       "  <thead>\n",
       "    <tr style=\"text-align: right;\">\n",
       "      <th></th>\n",
       "      <th>chord</th>\n",
       "      <th>altchord</th>\n",
       "      <th>measure</th>\n",
       "      <th>beat</th>\n",
       "      <th>totbeat</th>\n",
       "      <th>timesig</th>\n",
       "      <th>op</th>\n",
       "      <th>no</th>\n",
       "      <th>mov</th>\n",
       "      <th>length</th>\n",
       "      <th>global_key</th>\n",
       "      <th>local_key</th>\n",
       "      <th>pedal</th>\n",
       "      <th>numeral</th>\n",
       "      <th>form</th>\n",
       "      <th>figbass</th>\n",
       "      <th>changes</th>\n",
       "      <th>relativeroot</th>\n",
       "      <th>phraseend</th>\n",
       "    </tr>\n",
       "  </thead>\n",
       "  <tbody>\n",
       "    <tr>\n",
       "      <td>0</td>\n",
       "      <td>.Eb.I</td>\n",
       "      <td>NaN</td>\n",
       "      <td>1</td>\n",
       "      <td>1.0</td>\n",
       "      <td>1.0</td>\n",
       "      <td>2/4</td>\n",
       "      <td>127</td>\n",
       "      <td>12</td>\n",
       "      <td>1</td>\n",
       "      <td>2.5</td>\n",
       "      <td>Eb</td>\n",
       "      <td>I</td>\n",
       "      <td>NaN</td>\n",
       "      <td>I</td>\n",
       "      <td>NaN</td>\n",
       "      <td>NaN</td>\n",
       "      <td>NaN</td>\n",
       "      <td>NaN</td>\n",
       "      <td>False</td>\n",
       "    </tr>\n",
       "    <tr>\n",
       "      <td>1</td>\n",
       "      <td>V43</td>\n",
       "      <td>NaN</td>\n",
       "      <td>2</td>\n",
       "      <td>1.5</td>\n",
       "      <td>3.5</td>\n",
       "      <td>2/4</td>\n",
       "      <td>127</td>\n",
       "      <td>12</td>\n",
       "      <td>1</td>\n",
       "      <td>1.5</td>\n",
       "      <td>Eb</td>\n",
       "      <td>I</td>\n",
       "      <td>NaN</td>\n",
       "      <td>V</td>\n",
       "      <td>NaN</td>\n",
       "      <td>43.0</td>\n",
       "      <td>NaN</td>\n",
       "      <td>NaN</td>\n",
       "      <td>False</td>\n",
       "    </tr>\n",
       "    <tr>\n",
       "      <td>2</td>\n",
       "      <td>I</td>\n",
       "      <td>NaN</td>\n",
       "      <td>3</td>\n",
       "      <td>1.0</td>\n",
       "      <td>5.0</td>\n",
       "      <td>2/4</td>\n",
       "      <td>127</td>\n",
       "      <td>12</td>\n",
       "      <td>1</td>\n",
       "      <td>2.5</td>\n",
       "      <td>Eb</td>\n",
       "      <td>I</td>\n",
       "      <td>NaN</td>\n",
       "      <td>I</td>\n",
       "      <td>NaN</td>\n",
       "      <td>NaN</td>\n",
       "      <td>NaN</td>\n",
       "      <td>NaN</td>\n",
       "      <td>False</td>\n",
       "    </tr>\n",
       "    <tr>\n",
       "      <td>3</td>\n",
       "      <td>V2</td>\n",
       "      <td>NaN</td>\n",
       "      <td>4</td>\n",
       "      <td>1.5</td>\n",
       "      <td>7.5</td>\n",
       "      <td>2/4</td>\n",
       "      <td>127</td>\n",
       "      <td>12</td>\n",
       "      <td>1</td>\n",
       "      <td>1.5</td>\n",
       "      <td>Eb</td>\n",
       "      <td>I</td>\n",
       "      <td>NaN</td>\n",
       "      <td>V</td>\n",
       "      <td>NaN</td>\n",
       "      <td>2.0</td>\n",
       "      <td>NaN</td>\n",
       "      <td>NaN</td>\n",
       "      <td>False</td>\n",
       "    </tr>\n",
       "    <tr>\n",
       "      <td>4</td>\n",
       "      <td>I6</td>\n",
       "      <td>NaN</td>\n",
       "      <td>5</td>\n",
       "      <td>1.0</td>\n",
       "      <td>9.0</td>\n",
       "      <td>2/4</td>\n",
       "      <td>127</td>\n",
       "      <td>12</td>\n",
       "      <td>1</td>\n",
       "      <td>1.0</td>\n",
       "      <td>Eb</td>\n",
       "      <td>I</td>\n",
       "      <td>NaN</td>\n",
       "      <td>I</td>\n",
       "      <td>NaN</td>\n",
       "      <td>6.0</td>\n",
       "      <td>NaN</td>\n",
       "      <td>NaN</td>\n",
       "      <td>False</td>\n",
       "    </tr>\n",
       "    <tr>\n",
       "      <td>...</td>\n",
       "      <td>...</td>\n",
       "      <td>...</td>\n",
       "      <td>...</td>\n",
       "      <td>...</td>\n",
       "      <td>...</td>\n",
       "      <td>...</td>\n",
       "      <td>...</td>\n",
       "      <td>...</td>\n",
       "      <td>...</td>\n",
       "      <td>...</td>\n",
       "      <td>...</td>\n",
       "      <td>...</td>\n",
       "      <td>...</td>\n",
       "      <td>...</td>\n",
       "      <td>...</td>\n",
       "      <td>...</td>\n",
       "      <td>...</td>\n",
       "      <td>...</td>\n",
       "      <td>...</td>\n",
       "    </tr>\n",
       "    <tr>\n",
       "      <td>553</td>\n",
       "      <td>I6(72)</td>\n",
       "      <td>NaN</td>\n",
       "      <td>280</td>\n",
       "      <td>1.0</td>\n",
       "      <td>822.0</td>\n",
       "      <td>3/4</td>\n",
       "      <td>127</td>\n",
       "      <td>12</td>\n",
       "      <td>1</td>\n",
       "      <td>1.0</td>\n",
       "      <td>Eb</td>\n",
       "      <td>I</td>\n",
       "      <td>NaN</td>\n",
       "      <td>I</td>\n",
       "      <td>NaN</td>\n",
       "      <td>6.0</td>\n",
       "      <td>72</td>\n",
       "      <td>NaN</td>\n",
       "      <td>False</td>\n",
       "    </tr>\n",
       "    <tr>\n",
       "      <td>554</td>\n",
       "      <td>I6(7)</td>\n",
       "      <td>NaN</td>\n",
       "      <td>280</td>\n",
       "      <td>2.0</td>\n",
       "      <td>823.0</td>\n",
       "      <td>3/4</td>\n",
       "      <td>127</td>\n",
       "      <td>12</td>\n",
       "      <td>1</td>\n",
       "      <td>1.0</td>\n",
       "      <td>Eb</td>\n",
       "      <td>I</td>\n",
       "      <td>NaN</td>\n",
       "      <td>I</td>\n",
       "      <td>NaN</td>\n",
       "      <td>6.0</td>\n",
       "      <td>7</td>\n",
       "      <td>NaN</td>\n",
       "      <td>False</td>\n",
       "    </tr>\n",
       "    <tr>\n",
       "      <td>555</td>\n",
       "      <td>I64</td>\n",
       "      <td>NaN</td>\n",
       "      <td>280</td>\n",
       "      <td>3.0</td>\n",
       "      <td>824.0</td>\n",
       "      <td>3/4</td>\n",
       "      <td>127</td>\n",
       "      <td>12</td>\n",
       "      <td>1</td>\n",
       "      <td>1.0</td>\n",
       "      <td>Eb</td>\n",
       "      <td>I</td>\n",
       "      <td>NaN</td>\n",
       "      <td>I</td>\n",
       "      <td>NaN</td>\n",
       "      <td>64.0</td>\n",
       "      <td>NaN</td>\n",
       "      <td>NaN</td>\n",
       "      <td>False</td>\n",
       "    </tr>\n",
       "    <tr>\n",
       "      <td>556</td>\n",
       "      <td>V7</td>\n",
       "      <td>NaN</td>\n",
       "      <td>281</td>\n",
       "      <td>1.0</td>\n",
       "      <td>825.0</td>\n",
       "      <td>3/4</td>\n",
       "      <td>127</td>\n",
       "      <td>12</td>\n",
       "      <td>1</td>\n",
       "      <td>3.0</td>\n",
       "      <td>Eb</td>\n",
       "      <td>I</td>\n",
       "      <td>NaN</td>\n",
       "      <td>V</td>\n",
       "      <td>NaN</td>\n",
       "      <td>7.0</td>\n",
       "      <td>NaN</td>\n",
       "      <td>NaN</td>\n",
       "      <td>False</td>\n",
       "    </tr>\n",
       "    <tr>\n",
       "      <td>557</td>\n",
       "      <td>I\\\\\\\\</td>\n",
       "      <td>NaN</td>\n",
       "      <td>282</td>\n",
       "      <td>1.0</td>\n",
       "      <td>828.0</td>\n",
       "      <td>3/4</td>\n",
       "      <td>127</td>\n",
       "      <td>12</td>\n",
       "      <td>1</td>\n",
       "      <td>3.0</td>\n",
       "      <td>Eb</td>\n",
       "      <td>I</td>\n",
       "      <td>NaN</td>\n",
       "      <td>I</td>\n",
       "      <td>NaN</td>\n",
       "      <td>NaN</td>\n",
       "      <td>NaN</td>\n",
       "      <td>NaN</td>\n",
       "      <td>True</td>\n",
       "    </tr>\n",
       "  </tbody>\n",
       "</table>\n",
       "<p>558 rows × 19 columns</p>\n",
       "</div>"
      ],
      "text/plain": [
       "      chord  altchord  measure  beat  totbeat timesig   op  no  mov  length  \\\n",
       "0     .Eb.I       NaN        1   1.0      1.0     2/4  127  12    1     2.5   \n",
       "1       V43       NaN        2   1.5      3.5     2/4  127  12    1     1.5   \n",
       "2         I       NaN        3   1.0      5.0     2/4  127  12    1     2.5   \n",
       "3        V2       NaN        4   1.5      7.5     2/4  127  12    1     1.5   \n",
       "4        I6       NaN        5   1.0      9.0     2/4  127  12    1     1.0   \n",
       "..      ...       ...      ...   ...      ...     ...  ...  ..  ...     ...   \n",
       "553  I6(72)       NaN      280   1.0    822.0     3/4  127  12    1     1.0   \n",
       "554   I6(7)       NaN      280   2.0    823.0     3/4  127  12    1     1.0   \n",
       "555     I64       NaN      280   3.0    824.0     3/4  127  12    1     1.0   \n",
       "556      V7       NaN      281   1.0    825.0     3/4  127  12    1     3.0   \n",
       "557   I\\\\\\\\       NaN      282   1.0    828.0     3/4  127  12    1     3.0   \n",
       "\n",
       "    global_key local_key pedal numeral form  figbass changes relativeroot  \\\n",
       "0           Eb         I   NaN       I  NaN      NaN     NaN          NaN   \n",
       "1           Eb         I   NaN       V  NaN     43.0     NaN          NaN   \n",
       "2           Eb         I   NaN       I  NaN      NaN     NaN          NaN   \n",
       "3           Eb         I   NaN       V  NaN      2.0     NaN          NaN   \n",
       "4           Eb         I   NaN       I  NaN      6.0     NaN          NaN   \n",
       "..         ...       ...   ...     ...  ...      ...     ...          ...   \n",
       "553         Eb         I   NaN       I  NaN      6.0      72          NaN   \n",
       "554         Eb         I   NaN       I  NaN      6.0       7          NaN   \n",
       "555         Eb         I   NaN       I  NaN     64.0     NaN          NaN   \n",
       "556         Eb         I   NaN       V  NaN      7.0     NaN          NaN   \n",
       "557         Eb         I   NaN       I  NaN      NaN     NaN          NaN   \n",
       "\n",
       "     phraseend  \n",
       "0        False  \n",
       "1        False  \n",
       "2        False  \n",
       "3        False  \n",
       "4        False  \n",
       "..         ...  \n",
       "553      False  \n",
       "554      False  \n",
       "555      False  \n",
       "556      False  \n",
       "557       True  \n",
       "\n",
       "[558 rows x 19 columns]"
      ]
     },
     "execution_count": 10,
     "metadata": {},
     "output_type": "execute_result"
    }
   ],
   "source": [
    "abc_dataset"
   ]
  },
  {
   "cell_type": "code",
   "execution_count": 34,
   "metadata": {},
   "outputs": [],
   "source": [
    "rn = []\n",
    "for n in range(len(abc_dataset)):\n",
    "    if str(abc_dataset['form'][n]) != 'nan':\n",
    "        roman = str(abc_dataset['numeral'][n])\n",
    "        extension = str(abc_dataset['form'][n])\n",
    "        if extension == '%':\n",
    "            extension = '/o'\n",
    "        if extension == 'M':\n",
    "            extension = '7'\n",
    "        if extension == 'Ger':\n",
    "            extension = '7'\n",
    "        rn.append(roman+extension)\n",
    "    else:\n",
    "        roman = str(abc_dataset['numeral'][n])\n",
    "        if roman == 'nan':\n",
    "            pass\n",
    "        else:\n",
    "            rn.append(roman)\n",
    "rn = Remove(rn)"
   ]
  },
  {
   "cell_type": "code",
   "execution_count": 35,
   "metadata": {},
   "outputs": [
    {
     "data": {
      "text/plain": [
       "['#iv/o',\n",
       " '#vi',\n",
       " '#viio',\n",
       " 'Ger',\n",
       " 'I',\n",
       " 'I+',\n",
       " 'II',\n",
       " 'III',\n",
       " 'IV',\n",
       " 'IV+',\n",
       " 'IV7',\n",
       " 'V',\n",
       " 'VI',\n",
       " 'VII',\n",
       " 'i',\n",
       " 'ii',\n",
       " 'ii/o',\n",
       " 'iii',\n",
       " 'iio',\n",
       " 'iv',\n",
       " 'ivo',\n",
       " 'v',\n",
       " 'vi',\n",
       " 'vii/o',\n",
       " 'viio']"
      ]
     },
     "execution_count": 35,
     "metadata": {},
     "output_type": "execute_result"
    }
   ],
   "source": [
    "sorted(rn)"
   ]
  },
  {
   "cell_type": "code",
   "execution_count": 24,
   "metadata": {},
   "outputs": [
    {
     "data": {
      "text/plain": [
       "'nan'"
      ]
     },
     "execution_count": 24,
     "metadata": {},
     "output_type": "execute_result"
    }
   ],
   "source": [
    "str(abc_dataset['form'][1])"
   ]
  },
  {
   "cell_type": "code",
   "execution_count": 2,
   "metadata": {},
   "outputs": [],
   "source": [
    "score = '/Users/marco/Dropbox (Personal)/Musica/Applications/musicntwrk/RESULTS/MUSICOLOGY/Beethoven/ABC-1.0/data/mscx/op. 127 No. 12/op127_no12_mov1.musicxml'"
   ]
  },
  {
   "cell_type": "code",
   "execution_count": 3,
   "metadata": {},
   "outputs": [],
   "source": [
    "# score = 'Op59n3m1_Intro.musicxml'\n",
    "seq,chords = readScore(score,music21=False,show=False)"
   ]
  },
  {
   "cell_type": "code",
   "execution_count": null,
   "metadata": {},
   "outputs": [],
   "source": [
    "# To write chords and corresponding operators - uses musescore\n",
    "WRITEscoreOps(seq,w=True)"
   ]
  },
  {
   "cell_type": "code",
   "execution_count": 4,
   "metadata": {},
   "outputs": [
    {
     "name": "stdout",
     "output_type": "stream",
     "text": [
      "average degree =  3.247967479674797  modularity =  0.4332518980199036\n"
     ]
    }
   ],
   "source": [
    "dnodes,dedges,dcounts,deg,modul,Gx,Gxu = scoreNetwork(seq,ntx=True,general=True)\n",
    "print('average degree = ',deg,' modularity = ',modul)"
   ]
  },
  {
   "cell_type": "code",
   "execution_count": 98,
   "metadata": {},
   "outputs": [],
   "source": [
    "# Write to csv for visualization in Gephi or other network drawing software (see figure below)\n",
    "dnodes.to_csv('nodesOp127n12m1.csv')\n",
    "dedges.to_csv('edgesOp127n12m1.csv')\n",
    "# Get modularity scores\n",
    "# part = cm.best_partition(Gxu) #,resolution=0.4)"
   ]
  },
  {
   "cell_type": "markdown",
   "metadata": {},
   "source": [
    "## ![title](Op127n12m1.png)"
   ]
  },
  {
   "cell_type": "code",
   "execution_count": 5,
   "metadata": {},
   "outputs": [],
   "source": [
    "moduldict,modul = tonalPartition(seq,chords,dnodes,Gx,Gxu,resolution=1.0,display=True)\n",
    "# modul.to_csv('~/Desktop/modul.csv')"
   ]
  },
  {
   "cell_type": "code",
   "execution_count": 58,
   "metadata": {
    "code_folding": []
   },
   "outputs": [
    {
     "data": {
      "text/html": [
       "<div>\n",
       "<style scoped>\n",
       "    .dataframe tbody tr th:only-of-type {\n",
       "        vertical-align: middle;\n",
       "    }\n",
       "\n",
       "    .dataframe tbody tr th {\n",
       "        vertical-align: top;\n",
       "    }\n",
       "\n",
       "    .dataframe thead th {\n",
       "        text-align: right;\n",
       "    }\n",
       "</style>\n",
       "<table border=\"1\" class=\"dataframe\">\n",
       "  <thead>\n",
       "    <tr style=\"text-align: right;\">\n",
       "      <th></th>\n",
       "      <th>Label</th>\n",
       "      <th>Degree</th>\n",
       "      <th>Modularity</th>\n",
       "    </tr>\n",
       "  </thead>\n",
       "  <tbody>\n",
       "  </tbody>\n",
       "</table>\n",
       "</div>"
      ],
      "text/plain": [
       "Empty DataFrame\n",
       "Columns: [Label, Degree, Modularity]\n",
       "Index: []"
      ]
     },
     "execution_count": 58,
     "metadata": {},
     "output_type": "execute_result"
    }
   ],
   "source": [
    "modul[['Label','Degree','Modularity']].query('Modularity == 7').sort_values(by=['Degree'],ascending=False)"
   ]
  },
  {
   "cell_type": "code",
   "execution_count": 6,
   "metadata": {},
   "outputs": [],
   "source": [
    "# Dictionary of modularity classes and relative keys\n",
    "keydict = {0:'E-', 1:'E-', 2:'E-', 3:'E-', 4:'E-', 5:'E-', 6:'E-'}"
   ]
  },
  {
   "cell_type": "code",
   "execution_count": 26,
   "metadata": {},
   "outputs": [],
   "source": [
    "# manual control of modulations\n",
    "keychange = {4:'E-',11:'E-',27:'E-',28:'E-',29:'E-'}\n",
    "# manual control of roman numerals\n",
    "altrn = None #{2:'II'}\n",
    "# manual elimination of \"unknown\" chords\n",
    "seq[40] = seq[39]\n",
    "seq[44] = seq[43]"
   ]
  },
  {
   "cell_type": "code",
   "execution_count": 27,
   "metadata": {},
   "outputs": [
    {
     "name": "stdout",
     "output_type": "stream",
     "text": [
      "modulation at or before chord no.  57\n",
      "check error\n"
     ]
    }
   ],
   "source": [
    "nxt,rn,ops = scoreAnalysis(seq,moduldict,keydict,keychange=keychange,altrn=altrn,table='../tonal.harmony.minimal')"
   ]
  },
  {
   "cell_type": "code",
   "execution_count": 44,
   "metadata": {},
   "outputs": [],
   "source": [
    "analysis = showAnalysis(nxt,chords,seq,rn,ops,keydict,moduldict,last=False,display=True)"
   ]
  },
  {
   "cell_type": "code",
   "execution_count": 43,
   "metadata": {},
   "outputs": [],
   "source": [
    "def showAnalysis(nt,chords,seq,rn,ops,keydict,moduldict,wops=False,last=False,display=False):\n",
    "# Create dictionary of score analysis\n",
    "    reference = []\n",
    "    for n in range(nt):\n",
    "        try:\n",
    "            chord = ''.join(m21.chord.Chord(PCSet(seq[n]).normalOrder().tolist()).pitchNames)\n",
    "            entry = [PCSet(seq[n]).normalOrder(),chord,rn[n],ops[n],keydict[moduldict[chord]],moduldict[chord]]\n",
    "            reference.append(entry)\n",
    "        except:\n",
    "            pass\n",
    "    if last:\n",
    "    # Add last chord\n",
    "        ops.append(' ')\n",
    "        chord = ''.join(m21.chord.Chord(PCSet(seq[nt]).normalOrder().tolist()).pitchNames)\n",
    "        entry = [PCSet(seq[nt]).normalOrder(),chord,rn[nt],ops[nt],keydict[moduldict[chord]]]\n",
    "        reference.append(entry)\n",
    "\n",
    "    # Set dictionary as pandas dataframe\n",
    "    analysis = pd.DataFrame(reference,columns=['pcs','chord','rn','ops','key','modul'])\n",
    "    \n",
    "    if display:\n",
    "        # display the analyzed score\n",
    "        l = 0\n",
    "        analyzed = copy.deepcopy(chords)\n",
    "        for c in analyzed.recurse().getElementsByClass('Chord'):\n",
    "            c.closedPosition(forceOctave=4,inPlace=True)\n",
    "            c.addLyric('')\n",
    "            c.addLyric('')\n",
    "            if wops: c.addLyric(str(ops[l]))\n",
    "            c.addLyric(str(rn[l]))\n",
    "            if l < nt-1: \n",
    "                l += 1\n",
    "            else: \n",
    "                break\n",
    "        analyzed.show('musicxml')\n",
    "    return(analysis)\n"
   ]
  },
  {
   "cell_type": "code",
   "execution_count": 32,
   "metadata": {},
   "outputs": [
    {
     "name": "stdout",
     "output_type": "stream",
     "text": [
      "0 I O(0,0,0) [3, 7, 10] <music21.metadata.Metadata object at 0x1a1b782ed0>\n",
      "1 I O(2,1,0,-1) [3, 7, 10] P1: Violin I: Violin I (2)\n",
      "2 V7 O(0,0,0,0) [2, 5, 8, 10] <music21.stream.Measure 1 offset=0.0>\n",
      "3 V7 O(1,-2,-1,0) [2, 5, 8, 10] <music21.stream.Measure 2 offset=2.0>\n",
      "4 I O(0,0,0) [3, 7, 10] <music21.stream.Measure 3 offset=4.0>\n",
      "5 I O(2,1,0,-1) [3, 7, 10] <music21.stream.Measure 4 offset=6.0>\n",
      "6 V7 O(0,0,0,0) [2, 5, 8, 10] <music21.stream.Measure 5 offset=8.0>\n",
      "7 V7 O(1,-2,-1,0) [2, 5, 8, 10] <music21.stream.Measure 6 offset=10.0>\n",
      "8 I O(0,0,2) [3, 7, 10] <music21.stream.Measure 7 offset=12.0>\n",
      "9 vi O(0,0,1) [0, 3, 7] <music21.stream.Measure 8 offset=15.0>\n",
      "10 IV O(0,0,0) [8, 0, 3] <music21.stream.Measure 9 offset=18.0>\n",
      "11 IV O(0,0,0) [8, 0, 3] <music21.stream.Measure 10 offset=21.0>\n",
      "12 IV O(0,0,0) [8, 0, 3] <music21.stream.Measure 11 offset=24.0>\n",
      "13 IV O(0,0,0) [8, 0, 3] <music21.stream.Measure 12 offset=27.0>\n",
      "14 IV O(0,0,0) [8, 0, 3] <music21.stream.Measure 13 offset=30.0>\n",
      "15 IV O(0,0,0) [8, 0, 3] <music21.stream.Measure 14 offset=33.0>\n",
      "16 IV O(0,0,0) [8, 0, 3] <music21.stream.Measure 15 offset=36.0>\n",
      "17 IV O(0,0,0) [8, 0, 3] <music21.stream.Measure 16 offset=39.0>\n",
      "18 IV O(0,0,0) [8, 0, 3] <music21.stream.Measure 17 offset=42.0>\n",
      "19 IV O(0,0,0) [8, 0, 3] <music21.stream.Measure 18 offset=45.0>\n",
      "20 IV O(0,0,0) [8, 0, 3] <music21.stream.Measure 19 offset=48.0>\n",
      "21 IV O(0,0,0) [8, 0, 3] <music21.stream.Measure 20 offset=51.0>\n",
      "22 IV O(0,0,0) [8, 0, 3] <music21.stream.Measure 21 offset=54.0>\n",
      "23 IV O(0,0,0) [8, 0, 3] <music21.stream.Measure 22 offset=57.0>\n",
      "24 IV O(0,0,0) [8, 0, 3] <music21.stream.Measure 23 offset=60.0>\n",
      "25 IV O(0,0,0) [8, 0, 3] <music21.stream.Measure 24 offset=63.0>\n",
      "26 IV O(0,0,0) [8, 0, 3] <music21.stream.Measure 25 offset=66.0>\n",
      "27 IV O(0,0,2) [8, 0, 3] <music21.stream.Measure 26 offset=69.0>\n",
      "28 ii O(2,2,0,0) [5, 8, 0] <music21.stream.Measure 27 offset=72.0>\n",
      "29 V7 O(3,0,-1,0) [2, 5, 8, 10] <music21.stream.Measure 28 offset=75.0>\n",
      "30 iii7[no5] O(-2,0,0) [5, 7, 10] <music21.stream.Measure 29 offset=78.0>\n",
      "31 I O(0,0,2) [3, 7, 10] <music21.stream.Measure 30 offset=81.0>\n",
      "32 vi O(0,0,-2,-2) [0, 3, 7] <music21.stream.Measure 31 offset=84.0>\n",
      "33 vi743 O(-2,0,0,0) [10, 0, 3, 5] <music21.stream.Measure 32 offset=87.0>\n",
      "34 ii7 O(0,0,0,0) [0, 3, 5, 8] <music21.stream.Measure 33 offset=90.0>\n",
      "35 ii7 O(0,0,0,-1) [0, 3, 5, 8] <music21.stream.Measure 34 offset=93.0>\n",
      "36 ii9[no3] O(-2,-1,0,1) [0, 3, 5, 7] <music21.stream.Measure 35 offset=96.0>\n",
      "37 V7 O(0,2,-1,0) [2, 5, 8, 10] <music21.stream.Measure 36 offset=99.0>\n",
      "38 iii O(0,0,1) [7, 10, 2] <music21.stream.Measure 37 offset=102.0>\n",
      "39 I O(0,0,0) [3, 7, 10] <music21.stream.Measure 38 offset=105.0>\n",
      "40 I O(-3,1,-2) [3, 7, 10] <music21.stream.Measure 39 offset=108.0>\n",
      "41 IV#7[no#3] O(0,0,-3) [8, 0] <music21.stream.Measure 40 offset=111.0>\n",
      "42 ii O(2,2,0,0) [5, 8, 0] <music21.stream.Measure 41 offset=114.0>\n",
      "43 V7 O(0,0,0,0) [2, 5, 8, 10] <music21.stream.Measure 42 offset=117.0>\n",
      "44 V7 O(1,-2,-1,0) [2, 5, 8, 10] <music21.stream.Measure 43 offset=120.0>\n",
      "45 I O(0,1,2) [3, 7, 10] <music21.stream.Measure 44 offset=123.0>\n",
      "46 IV O(2,2,2) [8, 0, 3] <music21.stream.Measure 45 offset=126.0>\n",
      "47 V O(0,0,0,-2) [10, 2, 5] <music21.stream.Measure 46 offset=129.0>\n",
      "48 V7 O(1,0,0,2) [2, 5, 8, 10] <music21.stream.Measure 47 offset=132.0>\n",
      "49 ii7 O(0,0,0,-1) [0, 3, 5, 8] <music21.stream.Measure 48 offset=135.0>\n",
      "50 ii9[no3] O(0,0,0,1) [0, 3, 5, 7] <music21.stream.Measure 49 offset=138.0>\n",
      "51 ii7 O(2,-1,0,0) [0, 3, 5, 8] <music21.stream.Measure 50 offset=141.0>\n",
      "52 viio O(1,2,2) [2, 5, 8] <music21.stream.Measure 51 offset=144.0>\n",
      "53 I O(2,1,-2) [3, 7, 10] <music21.stream.Measure 52 offset=147.0>\n",
      "54 ii[no5] O(2,2) [5, 8] <music21.stream.Measure 53 offset=150.0>\n",
      "55 iii[no5] O(0,1) [7, 10] <music21.stream.Measure 54 offset=153.0>\n",
      "56 vi+b4 O(1,1) [7, 11] <music21.stream.Measure 55 offset=156.0>\n"
     ]
    }
   ],
   "source": [
    "for i,n in enumerate(rn):\n",
    "    print(i,n,ops[i],seq[i],chords[i])"
   ]
  },
  {
   "cell_type": "code",
   "execution_count": 14,
   "metadata": {},
   "outputs": [
    {
     "data": {
      "text/plain": [
       "40"
      ]
     },
     "execution_count": 14,
     "metadata": {},
     "output_type": "execute_result"
    }
   ],
   "source": [
    "nxt"
   ]
  },
  {
   "cell_type": "code",
   "execution_count": null,
   "metadata": {},
   "outputs": [],
   "source": []
  }
 ],
 "metadata": {
  "kernelspec": {
   "display_name": "Python 3",
   "language": "python",
   "name": "python3"
  },
  "language_info": {
   "codemirror_mode": {
    "name": "ipython",
    "version": 3
   },
   "file_extension": ".py",
   "mimetype": "text/x-python",
   "name": "python",
   "nbconvert_exporter": "python",
   "pygments_lexer": "ipython3",
   "version": "3.7.4"
  }
 },
 "nbformat": 4,
 "nbformat_minor": 2
}
