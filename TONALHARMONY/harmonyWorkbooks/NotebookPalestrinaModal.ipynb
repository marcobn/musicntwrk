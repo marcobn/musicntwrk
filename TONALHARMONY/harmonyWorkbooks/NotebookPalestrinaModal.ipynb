{
 "cells": [
  {
   "cell_type": "markdown",
   "metadata": {},
   "source": [
    "## Workbook of modal harmony (Palestrina counterpoint)\n",
    "#### Analysis of G.P.da Palestrina Agnus from music21"
   ]
  },
  {
   "cell_type": "code",
   "execution_count": 1,
   "metadata": {},
   "outputs": [
    {
     "data": {
      "text/html": [
       "<div id=\"glowscript\" class=\"glowscript\"></div>"
      ],
      "text/plain": [
       "<IPython.core.display.HTML object>"
      ]
     },
     "metadata": {},
     "output_type": "display_data"
    },
    {
     "data": {
      "application/javascript": [
       "if (typeof Jupyter !== \"undefined\") { window.__context = { glowscript_container: $(\"#glowscript\").removeAttr(\"id\")};}else{ element.textContent = ' ';}"
      ],
      "text/plain": [
       "<IPython.core.display.Javascript object>"
      ]
     },
     "metadata": {},
     "output_type": "display_data"
    }
   ],
   "source": [
    "from pcsPy import *\n",
    "import pickle, copy\n",
    "from IPython.display import Image \n",
    "sys.path.append('../')\n",
    "from tonalHarmonyDefs import enharmonicDictionary, shortHands, scoreAnalysis, tonalPartition, showAnalysis"
   ]
  },
  {
   "cell_type": "code",
   "execution_count": 2,
   "metadata": {},
   "outputs": [
    {
     "data": {
      "text/html": [
       "<style>.container { width:100% !important; }</style>"
      ],
      "text/plain": [
       "<IPython.core.display.HTML object>"
      ]
     },
     "metadata": {},
     "output_type": "display_data"
    }
   ],
   "source": [
    "# Display width settings\n",
    "from IPython.core.display import display, HTML\n",
    "display(HTML(\"<style>.container { width:100% !important; }</style>\"))"
   ]
  },
  {
   "cell_type": "markdown",
   "metadata": {},
   "source": [
    "Here we import the tonal model we are going to use for the analysis. A tonal model is the matrix of all the operators that connect the chords of a chord library as roman numerals.\n",
    "Typical models are built using combinations of basic chord symbols and possible extension. \n",
    "\n",
    "Use tonalHarmonyModel.py to generate or modify models"
   ]
  },
  {
   "cell_type": "code",
   "execution_count": 3,
   "metadata": {},
   "outputs": [],
   "source": [
    "score = '/Users/marco/Dropbox (Personal)/Musica/Scores/Palestrina/Papae_Marcelli_Kyrie_6.mid.xml'\n",
    "seq,chords = readScore(score,music21=False,show=False)"
   ]
  },
  {
   "cell_type": "code",
   "execution_count": null,
   "metadata": {},
   "outputs": [],
   "source": [
    "score = m21.corpus.parse('palestrina/Agnus_II_00.krn')\n",
    "score.show()"
   ]
  },
  {
   "cell_type": "code",
   "execution_count": null,
   "metadata": {},
   "outputs": [],
   "source": [
    "score.show()"
   ]
  },
  {
   "cell_type": "code",
   "execution_count": null,
   "metadata": {},
   "outputs": [],
   "source": [
    "# To write chords and corresponding operators - uses musescore\n",
    "WRITEscoreOps(seq,w=True)"
   ]
  },
  {
   "cell_type": "code",
   "execution_count": 4,
   "metadata": {},
   "outputs": [
    {
     "name": "stdout",
     "output_type": "stream",
     "text": [
      "average degree =  2.7096774193548385  modularity =  0.3376946366782007\n"
     ]
    }
   ],
   "source": [
    "dnodes,dedges,dcounts,deg,modul,Gx,Gxu = scoreNetwork(seq,ntx=True,general=True)\n",
    "print('average degree = ',deg,' modularity = ',modul)"
   ]
  },
  {
   "cell_type": "code",
   "execution_count": 6,
   "metadata": {},
   "outputs": [],
   "source": [
    "# Write to csv for visualization in Gephi or other network drawing software (see figure below)\n",
    "dnodes.to_csv('nodes_kyrie.csv')\n",
    "dedges.to_csv('edges_kyrie.csv')"
   ]
  },
  {
   "cell_type": "markdown",
   "metadata": {},
   "source": [
    "## ![title](Agnus.png)"
   ]
  },
  {
   "cell_type": "code",
   "execution_count": 5,
   "metadata": {},
   "outputs": [],
   "source": [
    "moduldict,modul = tonalPartition(seq,chords,dnodes,Gx,Gxu,resolution=1.0,display=True)\n",
    "modul.to_csv('~/Desktop/modul.csv')"
   ]
  },
  {
   "cell_type": "code",
   "execution_count": null,
   "metadata": {},
   "outputs": [],
   "source": [
    "dendro1 = cm.generate_dendrogram(Gxu,part_init=part2)"
   ]
  },
  {
   "cell_type": "code",
   "execution_count": null,
   "metadata": {},
   "outputs": [],
   "source": [
    "part2 = cm.best_partition(Gxu)"
   ]
  },
  {
   "cell_type": "code",
   "execution_count": null,
   "metadata": {},
   "outputs": [],
   "source": [
    "for level in range(len(dendro1)) :\n",
    "    print(\"partition at level\", level,\"is\", cm.partition_at_level(dendro1, level))"
   ]
  },
  {
   "cell_type": "code",
   "execution_count": null,
   "metadata": {},
   "outputs": [],
   "source": [
    "# f = open('moduldict.pkl','wb')\n",
    "# pickle.dump(moduldict,f)\n",
    "# f.close()"
   ]
  },
  {
   "cell_type": "code",
   "execution_count": null,
   "metadata": {},
   "outputs": [],
   "source": [
    "# f = open('moduldict.pkl','rb')\n",
    "# moduldict = pickle.load(f)\n",
    "# f.close()\n",
    "# modul = pd.read_csv('modulPalestrina.csv')"
   ]
  },
  {
   "cell_type": "code",
   "execution_count": null,
   "metadata": {
    "code_folding": []
   },
   "outputs": [],
   "source": [
    "modul[['Label','Degree','Modularity']].query('Modularity == 5').sort_values(by=['Degree'],ascending=False)"
   ]
  },
  {
   "cell_type": "code",
   "execution_count": 8,
   "metadata": {},
   "outputs": [],
   "source": [
    "key = 'C'\n",
    "rn = []\n",
    "seqch = []\n",
    "for d in dnodes.loc[0,'Label']:\n",
    "    chstring = []\n",
    "    for i in range(len(d)):\n",
    "        if d[i] == '-' or d[i] == '#':\n",
    "            chstring.pop()\n",
    "            chstring.append(d[i-1]+d[i])\n",
    "        else:\n",
    "            chstring.append(d[i])\n",
    "    n = m21.chord.Chord(chstring)\n",
    "    rnum = m21.roman.romanNumeralFromChord(n,m21.key.Key(key)).romanNumeralAlone\n",
    "    fig = m21.roman.postFigureFromChordAndKey(n,m21.key.Key(key))\n",
    "    rn.append(rnum+fig)\n",
    "    seqch.append(n.pitchClasses)"
   ]
  },
  {
   "cell_type": "code",
   "execution_count": null,
   "metadata": {},
   "outputs": [],
   "source": [
    "# make table of operators\n",
    "opstable = []\n",
    "for n in range(len(seqch)):\n",
    "    mat = []\n",
    "    for m in range(len(seqch)):\n",
    "        _,m = generalizedOpsName(seqch[n],seqch[m])\n",
    "        mat.append(m)\n",
    "    opstable.append(mat)"
   ]
  },
  {
   "cell_type": "code",
   "execution_count": 85,
   "metadata": {},
   "outputs": [],
   "source": [
    "summary = []\n",
    "for n in range(len(seqch)):\n",
    "    summary.append([seqch[n],rn[n],PCSet(m21.roman.RomanNumeral(rn[n],key).pitchClasses).normalOrder().tolist()])\n",
    "summary = pd.DataFrame(summary,columns=['Initial','RN','Final'])"
   ]
  },
  {
   "cell_type": "code",
   "execution_count": 10,
   "metadata": {},
   "outputs": [],
   "source": [
    "summary.to_csv('summary.csv')"
   ]
  },
  {
   "cell_type": "code",
   "execution_count": 86,
   "metadata": {},
   "outputs": [],
   "source": [
    "summary_old = pd.read_csv('palestrina.modal.C.csv',usecols=['Initial','RN','Final'])"
   ]
  },
  {
   "cell_type": "code",
   "execution_count": 87,
   "metadata": {},
   "outputs": [],
   "source": [
    "summary_new = pd.concat([summary_old,summary], keys=['Initial','RN','Final'])"
   ]
  },
  {
   "cell_type": "code",
   "execution_count": 88,
   "metadata": {},
   "outputs": [
    {
     "data": {
      "text/plain": [
       "118"
      ]
     },
     "execution_count": 88,
     "metadata": {},
     "output_type": "execute_result"
    }
   ],
   "source": [
    "len(summary_new)"
   ]
  },
  {
   "cell_type": "code",
   "execution_count": 89,
   "metadata": {},
   "outputs": [],
   "source": [
    "summary_cleaned = summary_new.loc[summary_new.astype(str).drop_duplicates(subset='Initial').index]"
   ]
  },
  {
   "cell_type": "code",
   "execution_count": 106,
   "metadata": {},
   "outputs": [
    {
     "data": {
      "text/plain": [
       "78"
      ]
     },
     "execution_count": 106,
     "metadata": {},
     "output_type": "execute_result"
    }
   ],
   "source": [
    "len(summary_cleaned)"
   ]
  },
  {
   "cell_type": "code",
   "execution_count": 91,
   "metadata": {},
   "outputs": [],
   "source": [
    "summary_cleaned.to_csv('summary_clean.csv')"
   ]
  },
  {
   "cell_type": "code",
   "execution_count": 107,
   "metadata": {},
   "outputs": [],
   "source": [
    "summary = pd.read_csv('palestrina.modal.Cext.csv',usecols=['Initial','RN','Final'])"
   ]
  },
  {
   "cell_type": "code",
   "execution_count": 108,
   "metadata": {},
   "outputs": [
    {
     "data": {
      "text/html": [
       "<div>\n",
       "<style scoped>\n",
       "    .dataframe tbody tr th:only-of-type {\n",
       "        vertical-align: middle;\n",
       "    }\n",
       "\n",
       "    .dataframe tbody tr th {\n",
       "        vertical-align: top;\n",
       "    }\n",
       "\n",
       "    .dataframe thead th {\n",
       "        text-align: right;\n",
       "    }\n",
       "</style>\n",
       "<table border=\"1\" class=\"dataframe\">\n",
       "  <thead>\n",
       "    <tr style=\"text-align: right;\">\n",
       "      <th></th>\n",
       "      <th>Initial</th>\n",
       "      <th>RN</th>\n",
       "      <th>Final</th>\n",
       "    </tr>\n",
       "  </thead>\n",
       "  <tbody>\n",
       "    <tr>\n",
       "      <td>0</td>\n",
       "      <td>[9, 11, 0, 4]</td>\n",
       "      <td>vi763</td>\n",
       "      <td>[9, 11, 0, 4]</td>\n",
       "    </tr>\n",
       "    <tr>\n",
       "      <td>1</td>\n",
       "      <td>[9, 11, 2]</td>\n",
       "      <td>vii65[no5]</td>\n",
       "      <td>[6, 9, 11, 2]</td>\n",
       "    </tr>\n",
       "    <tr>\n",
       "      <td>2</td>\n",
       "      <td>[9, 11, 2, 5]</td>\n",
       "      <td>vii/o65</td>\n",
       "      <td>[9, 11, 2, 5]</td>\n",
       "    </tr>\n",
       "    <tr>\n",
       "      <td>3</td>\n",
       "      <td>[9, 1, 4]</td>\n",
       "      <td>VI</td>\n",
       "      <td>[9, 1, 4]</td>\n",
       "    </tr>\n",
       "    <tr>\n",
       "      <td>4</td>\n",
       "      <td>[9, 0, 2]</td>\n",
       "      <td>ii62</td>\n",
       "      <td>[9, 0, 2]</td>\n",
       "    </tr>\n",
       "    <tr>\n",
       "      <td>...</td>\n",
       "      <td>...</td>\n",
       "      <td>...</td>\n",
       "      <td>...</td>\n",
       "    </tr>\n",
       "    <tr>\n",
       "      <td>73</td>\n",
       "      <td>[5, 9, 11]</td>\n",
       "      <td>vii/o7[no3]</td>\n",
       "      <td>[9, 11, 2, 5]</td>\n",
       "    </tr>\n",
       "    <tr>\n",
       "      <td>74</td>\n",
       "      <td>[5, 7, 9, 11, 0]</td>\n",
       "      <td>IV7654</td>\n",
       "      <td>[5, 7, 9, 11, 0]</td>\n",
       "    </tr>\n",
       "    <tr>\n",
       "      <td>75</td>\n",
       "      <td>[7, 9, 10]</td>\n",
       "      <td>vb32</td>\n",
       "      <td>[7, 9, 10]</td>\n",
       "    </tr>\n",
       "    <tr>\n",
       "      <td>76</td>\n",
       "      <td>[7, 10, 11]</td>\n",
       "      <td>v3b3</td>\n",
       "      <td>[7, 10]</td>\n",
       "    </tr>\n",
       "    <tr>\n",
       "      <td>77</td>\n",
       "      <td>[7, 11, 0]</td>\n",
       "      <td>i7[no3]</td>\n",
       "      <td>[11, 0, 3, 7]</td>\n",
       "    </tr>\n",
       "  </tbody>\n",
       "</table>\n",
       "<p>78 rows × 3 columns</p>\n",
       "</div>"
      ],
      "text/plain": [
       "             Initial           RN             Final\n",
       "0      [9, 11, 0, 4]        vi763     [9, 11, 0, 4]\n",
       "1         [9, 11, 2]   vii65[no5]     [6, 9, 11, 2]\n",
       "2      [9, 11, 2, 5]      vii/o65     [9, 11, 2, 5]\n",
       "3          [9, 1, 4]           VI         [9, 1, 4]\n",
       "4          [9, 0, 2]         ii62         [9, 0, 2]\n",
       "..               ...          ...               ...\n",
       "73        [5, 9, 11]  vii/o7[no3]     [9, 11, 2, 5]\n",
       "74  [5, 7, 9, 11, 0]       IV7654  [5, 7, 9, 11, 0]\n",
       "75        [7, 9, 10]         vb32        [7, 9, 10]\n",
       "76       [7, 10, 11]         v3b3           [7, 10]\n",
       "77        [7, 11, 0]      i7[no3]     [11, 0, 3, 7]\n",
       "\n",
       "[78 rows x 3 columns]"
      ]
     },
     "execution_count": 108,
     "metadata": {},
     "output_type": "execute_result"
    }
   ],
   "source": [
    "summary"
   ]
  },
  {
   "cell_type": "code",
   "execution_count": 109,
   "metadata": {},
   "outputs": [],
   "source": [
    "rn = summary['RN'].tolist()\n",
    "seqch = []\n",
    "for n in summary['Initial'].tolist():\n",
    "    seqch.append(list(eval(n)))"
   ]
  },
  {
   "cell_type": "code",
   "execution_count": 111,
   "metadata": {},
   "outputs": [],
   "source": [
    "# make table of operators\n",
    "opstable = []\n",
    "for n in range(len(seqch)):\n",
    "    mat = []\n",
    "    for m in range(len(seqch)):\n",
    "        _,m = generalizedOpsName(seqch[n],seqch[m])\n",
    "        mat.append(m)\n",
    "    opstable.append(mat)"
   ]
  },
  {
   "cell_type": "code",
   "execution_count": 112,
   "metadata": {},
   "outputs": [],
   "source": [
    "key = 'Cext'\n",
    "f = open('palestrina.modal.'+key,'wb')\n",
    "pickle.dump(rn,f)\n",
    "pickle.dump(opstable,f)\n",
    "f.close()"
   ]
  },
  {
   "cell_type": "code",
   "execution_count": 6,
   "metadata": {},
   "outputs": [],
   "source": [
    "# Dictionary of modularity classes and relative keys\n",
    "keydict = {0:'C', 1:'C', 2:'C', 3:'C', 4:'C', 5:'C',6:'C',7:'C'}\n",
    "# keydict = {0:'G', 1:'G', 2:'G', 3:'G', 4:'G', 5:'G',}"
   ]
  },
  {
   "cell_type": "code",
   "execution_count": 7,
   "metadata": {},
   "outputs": [],
   "source": [
    "# manual control of modulations\n",
    "keychange = None #{20:'G',84:'G',98:'D',102:'C',154:'F',164:'D'}\n",
    "# manual control of roman numerals\n",
    "altrn = None #{64:'ii7[no5]',96:'vi7[no5]',147:'I[no3]',151:'iv7[no3]',155:'VII/o9[no3]'}"
   ]
  },
  {
   "cell_type": "code",
   "execution_count": 10,
   "metadata": {},
   "outputs": [],
   "source": [
    "nxt,rn,ops = scoreAnalysis(seq,moduldict,keydict,first='ii[no3][no5]',\n",
    "                           keychange=keychange,altrn=altrn,table='palestrina.modal.Cext',\n",
    "                           verbose=True)"
   ]
  },
  {
   "cell_type": "code",
   "execution_count": 13,
   "metadata": {},
   "outputs": [],
   "source": [
    "analysis = showAnalysis(nxt,chords,seq,rn,ops,keydict,moduldict,last=True,display=True)"
   ]
  },
  {
   "cell_type": "code",
   "execution_count": 12,
   "metadata": {},
   "outputs": [
    {
     "data": {
      "text/html": [
       "<div>\n",
       "<style scoped>\n",
       "    .dataframe tbody tr th:only-of-type {\n",
       "        vertical-align: middle;\n",
       "    }\n",
       "\n",
       "    .dataframe tbody tr th {\n",
       "        vertical-align: top;\n",
       "    }\n",
       "\n",
       "    .dataframe thead th {\n",
       "        text-align: right;\n",
       "    }\n",
       "</style>\n",
       "<table border=\"1\" class=\"dataframe\">\n",
       "  <thead>\n",
       "    <tr style=\"text-align: right;\">\n",
       "      <th></th>\n",
       "      <th>pcs</th>\n",
       "      <th>chord</th>\n",
       "      <th>rn</th>\n",
       "      <th>ops</th>\n",
       "      <th>key</th>\n",
       "      <th>modul</th>\n",
       "    </tr>\n",
       "  </thead>\n",
       "  <tbody>\n",
       "    <tr>\n",
       "      <td>0</td>\n",
       "      <td>[2, 7]</td>\n",
       "      <td>DG</td>\n",
       "      <td>v4</td>\n",
       "      <td>O(0,0)</td>\n",
       "      <td>C</td>\n",
       "      <td>0</td>\n",
       "    </tr>\n",
       "    <tr>\n",
       "      <td>1</td>\n",
       "      <td>[2, 7]</td>\n",
       "      <td>DG</td>\n",
       "      <td>v4</td>\n",
       "      <td>O(0,0)</td>\n",
       "      <td>C</td>\n",
       "      <td>0</td>\n",
       "    </tr>\n",
       "    <tr>\n",
       "      <td>2</td>\n",
       "      <td>[2, 7]</td>\n",
       "      <td>DG</td>\n",
       "      <td>v4</td>\n",
       "      <td>O(0,0)</td>\n",
       "      <td>C</td>\n",
       "      <td>0</td>\n",
       "    </tr>\n",
       "    <tr>\n",
       "      <td>3</td>\n",
       "      <td>[2, 7]</td>\n",
       "      <td>DG</td>\n",
       "      <td>v4</td>\n",
       "      <td>O(0,0,-2)</td>\n",
       "      <td>C</td>\n",
       "      <td>0</td>\n",
       "    </tr>\n",
       "    <tr>\n",
       "      <td>4</td>\n",
       "      <td>[2, 5, 7]</td>\n",
       "      <td>DFG</td>\n",
       "      <td>v7[no3]</td>\n",
       "      <td>O(2,-1,0)</td>\n",
       "      <td>C</td>\n",
       "      <td>0</td>\n",
       "    </tr>\n",
       "    <tr>\n",
       "      <td>...</td>\n",
       "      <td>...</td>\n",
       "      <td>...</td>\n",
       "      <td>...</td>\n",
       "      <td>...</td>\n",
       "      <td>...</td>\n",
       "      <td>...</td>\n",
       "    </tr>\n",
       "    <tr>\n",
       "      <td>365</td>\n",
       "      <td>[5, 9, 11, 0]</td>\n",
       "      <td>FABC</td>\n",
       "      <td>IV764</td>\n",
       "      <td>O(0,0,1,0)</td>\n",
       "      <td>C</td>\n",
       "      <td>5</td>\n",
       "    </tr>\n",
       "    <tr>\n",
       "      <td>366</td>\n",
       "      <td>[5, 9, 0]</td>\n",
       "      <td>FAC</td>\n",
       "      <td>IV64</td>\n",
       "      <td>O(2,0,0,-1,0)</td>\n",
       "      <td>C</td>\n",
       "      <td>5</td>\n",
       "    </tr>\n",
       "    <tr>\n",
       "      <td>367</td>\n",
       "      <td>[4, 5, 7, 9, 0]</td>\n",
       "      <td>EFGAC</td>\n",
       "      <td>IV6543</td>\n",
       "      <td>O(1,0,-2,0,0)</td>\n",
       "      <td>C</td>\n",
       "      <td>5</td>\n",
       "    </tr>\n",
       "    <tr>\n",
       "      <td>368</td>\n",
       "      <td>[5, 9, 0]</td>\n",
       "      <td>FAC</td>\n",
       "      <td>IV64</td>\n",
       "      <td>O(2,0,0,0)</td>\n",
       "      <td>C</td>\n",
       "      <td>5</td>\n",
       "    </tr>\n",
       "    <tr>\n",
       "      <td>369</td>\n",
       "      <td>[9, 0, 2, 5]</td>\n",
       "      <td>ACDF</td>\n",
       "      <td>ii42</td>\n",
       "      <td>O(-2,0,-2,-1)</td>\n",
       "      <td>C</td>\n",
       "      <td>4</td>\n",
       "    </tr>\n",
       "  </tbody>\n",
       "</table>\n",
       "<p>370 rows × 6 columns</p>\n",
       "</div>"
      ],
      "text/plain": [
       "                 pcs  chord       rn            ops key  modul\n",
       "0             [2, 7]     DG       v4         O(0,0)   C      0\n",
       "1             [2, 7]     DG       v4         O(0,0)   C      0\n",
       "2             [2, 7]     DG       v4         O(0,0)   C      0\n",
       "3             [2, 7]     DG       v4      O(0,0,-2)   C      0\n",
       "4          [2, 5, 7]    DFG  v7[no3]      O(2,-1,0)   C      0\n",
       "..               ...    ...      ...            ...  ..    ...\n",
       "365    [5, 9, 11, 0]   FABC    IV764     O(0,0,1,0)   C      5\n",
       "366        [5, 9, 0]    FAC     IV64  O(2,0,0,-1,0)   C      5\n",
       "367  [4, 5, 7, 9, 0]  EFGAC   IV6543  O(1,0,-2,0,0)   C      5\n",
       "368        [5, 9, 0]    FAC     IV64     O(2,0,0,0)   C      5\n",
       "369     [9, 0, 2, 5]   ACDF     ii42  O(-2,0,-2,-1)   C      4\n",
       "\n",
       "[370 rows x 6 columns]"
      ]
     },
     "execution_count": 12,
     "metadata": {},
     "output_type": "execute_result"
    }
   ],
   "source": [
    "analysis"
   ]
  },
  {
   "cell_type": "code",
   "execution_count": null,
   "metadata": {},
   "outputs": [],
   "source": [
    "analysis.to_csv('analysis.csv')"
   ]
  },
  {
   "cell_type": "code",
   "execution_count": null,
   "metadata": {},
   "outputs": [],
   "source": [
    "rnC[0] = 'C: '+ rnC[0]\n",
    "rnG[0] = 'G: '+ rnG[0]\n",
    "l = 0\n",
    "analyzed = copy.deepcopy(chords)\n",
    "for c in analyzed.recurse().getElementsByClass('Chord'):\n",
    "    c.closedPosition(forceOctave=4,inPlace=True)\n",
    "    c.addLyric('')\n",
    "    c.addLyric(str(rnC[l]))\n",
    "#     c.addLyric(str(ops[l]))\n",
    "    c.addLyric(str(rnG[l]))\n",
    "    l += 1\n",
    "analyzed.show('musicxml')"
   ]
  },
  {
   "cell_type": "code",
   "execution_count": 122,
   "metadata": {},
   "outputs": [
    {
     "data": {
      "text/plain": [
       "([2], 'O(0,5)')"
      ]
     },
     "execution_count": 122,
     "metadata": {},
     "output_type": "execute_result"
    }
   ],
   "source": [
    "seq[2],ops[2]"
   ]
  },
  {
   "cell_type": "code",
   "execution_count": null,
   "metadata": {},
   "outputs": [],
   "source": []
  },
  {
   "cell_type": "code",
   "execution_count": 13,
   "metadata": {},
   "outputs": [],
   "source": [
    "df1 = pd.DataFrame({'lkey': ['foo', 'bar', 'baz', 'foo'],\n",
    "                    'value': [1, 2, 3, 5]})\n",
    "df2 = pd.DataFrame({'lkey': ['foo1', 'bar1', 'baz1', 'foo1'],\n",
    "                    'value': [5, 6, 7, 8]})"
   ]
  },
  {
   "cell_type": "code",
   "execution_count": 21,
   "metadata": {},
   "outputs": [],
   "source": [
    "df3 = df1.merge(df2,how='outer')"
   ]
  },
  {
   "cell_type": "code",
   "execution_count": 44,
   "metadata": {},
   "outputs": [
    {
     "data": {
      "text/html": [
       "<div>\n",
       "<style scoped>\n",
       "    .dataframe tbody tr th:only-of-type {\n",
       "        vertical-align: middle;\n",
       "    }\n",
       "\n",
       "    .dataframe tbody tr th {\n",
       "        vertical-align: top;\n",
       "    }\n",
       "\n",
       "    .dataframe thead th {\n",
       "        text-align: right;\n",
       "    }\n",
       "</style>\n",
       "<table border=\"1\" class=\"dataframe\">\n",
       "  <thead>\n",
       "    <tr style=\"text-align: right;\">\n",
       "      <th></th>\n",
       "      <th>lkey</th>\n",
       "      <th>value</th>\n",
       "    </tr>\n",
       "  </thead>\n",
       "  <tbody>\n",
       "    <tr>\n",
       "      <td>0</td>\n",
       "      <td>foo</td>\n",
       "      <td>1</td>\n",
       "    </tr>\n",
       "    <tr>\n",
       "      <td>1</td>\n",
       "      <td>bar</td>\n",
       "      <td>2</td>\n",
       "    </tr>\n",
       "    <tr>\n",
       "      <td>2</td>\n",
       "      <td>baz</td>\n",
       "      <td>3</td>\n",
       "    </tr>\n",
       "    <tr>\n",
       "      <td>3</td>\n",
       "      <td>foo</td>\n",
       "      <td>5</td>\n",
       "    </tr>\n",
       "    <tr>\n",
       "      <td>5</td>\n",
       "      <td>bar1</td>\n",
       "      <td>6</td>\n",
       "    </tr>\n",
       "    <tr>\n",
       "      <td>6</td>\n",
       "      <td>baz1</td>\n",
       "      <td>7</td>\n",
       "    </tr>\n",
       "    <tr>\n",
       "      <td>7</td>\n",
       "      <td>foo1</td>\n",
       "      <td>8</td>\n",
       "    </tr>\n",
       "  </tbody>\n",
       "</table>\n",
       "</div>"
      ],
      "text/plain": [
       "   lkey  value\n",
       "0   foo      1\n",
       "1   bar      2\n",
       "2   baz      3\n",
       "3   foo      5\n",
       "5  bar1      6\n",
       "6  baz1      7\n",
       "7  foo1      8"
      ]
     },
     "execution_count": 44,
     "metadata": {},
     "output_type": "execute_result"
    }
   ],
   "source": [
    "df3.drop_duplicates(subset='value')"
   ]
  },
  {
   "cell_type": "code",
   "execution_count": null,
   "metadata": {},
   "outputs": [],
   "source": []
  }
 ],
 "metadata": {
  "kernelspec": {
   "display_name": "Python 3",
   "language": "python",
   "name": "python3"
  },
  "language_info": {
   "codemirror_mode": {
    "name": "ipython",
    "version": 3
   },
   "file_extension": ".py",
   "mimetype": "text/x-python",
   "name": "python",
   "nbconvert_exporter": "python",
   "pygments_lexer": "ipython3",
   "version": "3.7.4"
  }
 },
 "nbformat": 4,
 "nbformat_minor": 2
}
