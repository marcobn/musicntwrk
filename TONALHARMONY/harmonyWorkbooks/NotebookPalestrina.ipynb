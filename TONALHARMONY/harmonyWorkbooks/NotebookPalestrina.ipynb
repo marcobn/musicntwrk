{
 "cells": [
  {
   "cell_type": "markdown",
   "metadata": {},
   "source": [
    "## Workbook of tonal harmony\n",
    "#### Analysis of G.P.da Palestrina Agnus from music21"
   ]
  },
  {
   "cell_type": "code",
   "execution_count": 1,
   "metadata": {},
   "outputs": [
    {
     "data": {
      "text/html": [
       "<div id=\"glowscript\" class=\"glowscript\"></div>"
      ],
      "text/plain": [
       "<IPython.core.display.HTML object>"
      ]
     },
     "metadata": {},
     "output_type": "display_data"
    },
    {
     "data": {
      "application/javascript": [
       "if (typeof Jupyter !== \"undefined\") { window.__context = { glowscript_container: $(\"#glowscript\").removeAttr(\"id\")};}else{ element.textContent = ' ';}"
      ],
      "text/plain": [
       "<IPython.core.display.Javascript object>"
      ]
     },
     "metadata": {},
     "output_type": "display_data"
    }
   ],
   "source": [
    "from pcsPy import *\n",
    "import pickle, copy\n",
    "from IPython.display import Image \n",
    "sys.path.append('../')\n",
    "from tonalHarmonyDefs import enharmonicDictionary, shortHands, scoreAnalysis, tonalPartition, showAnalysis"
   ]
  },
  {
   "cell_type": "markdown",
   "metadata": {},
   "source": [
    "Here we import the tonal model we are going to use for the analysis. A tonal model is the matrix of all the operators that connect the chords of a chord library as roman numerals.\n",
    "Typical models are built using combinations of basic chord symbols and possible extension. \n",
    "\n",
    "Use tonalHarmonyModel.py to generate or modify models"
   ]
  },
  {
   "cell_type": "code",
   "execution_count": 2,
   "metadata": {},
   "outputs": [],
   "source": [
    "score = 'test.musicxml'\n",
    "seq,chords = readScore(score,music21=False,show=False)"
   ]
  },
  {
   "cell_type": "code",
   "execution_count": 27,
   "metadata": {},
   "outputs": [],
   "source": [
    "chords.show('musicxml')"
   ]
  },
  {
   "cell_type": "code",
   "execution_count": 28,
   "metadata": {},
   "outputs": [],
   "source": [
    "# To write chords and corresponding operators - uses musescore\n",
    "WRITEscoreOps(seq,w=True)"
   ]
  },
  {
   "cell_type": "code",
   "execution_count": 3,
   "metadata": {},
   "outputs": [
    {
     "name": "stdout",
     "output_type": "stream",
     "text": [
      "average degree =  2.625  modularity =  0.36293450158000573\n"
     ]
    }
   ],
   "source": [
    "dnodes,dedges,dcounts,deg,modul,Gx,Gxu = scoreNetwork(seq,ntx=True,general=True)\n",
    "print('average degree = ',deg,' modularity = ',modul)"
   ]
  },
  {
   "cell_type": "code",
   "execution_count": null,
   "metadata": {},
   "outputs": [],
   "source": [
    "# Write to csv for visualization in Gephi or other network drawing software (see figure below)\n",
    "dnodes.to_csv('nodes_agnus.csv')\n",
    "dedges.to_csv('edges_agnus.csv')"
   ]
  },
  {
   "cell_type": "markdown",
   "metadata": {},
   "source": [
    "## ![title](Agnus.png)"
   ]
  },
  {
   "cell_type": "code",
   "execution_count": 30,
   "metadata": {},
   "outputs": [],
   "source": [
    "moduldict,modul = tonalPartition(seq,chords,dnodes,Gx,Gxu,resolution=1.0,display=True)\n",
    "modul.to_csv('~/Desktop/modul.csv')"
   ]
  },
  {
   "cell_type": "code",
   "execution_count": null,
   "metadata": {},
   "outputs": [],
   "source": [
    "# f = open('moduldict.pkl','wb')\n",
    "# pickle.dump(moduldict,f)\n",
    "# f.close()"
   ]
  },
  {
   "cell_type": "code",
   "execution_count": 4,
   "metadata": {},
   "outputs": [],
   "source": [
    "f = open('moduldict.pkl','rb')\n",
    "moduldict = pickle.load(f)\n",
    "f.close()\n",
    "modul = pd.read_csv('modulPalestrina.csv')"
   ]
  },
  {
   "cell_type": "code",
   "execution_count": 5,
   "metadata": {
    "code_folding": []
   },
   "outputs": [
    {
     "data": {
      "text/html": [
       "<div>\n",
       "<style scoped>\n",
       "    .dataframe tbody tr th:only-of-type {\n",
       "        vertical-align: middle;\n",
       "    }\n",
       "\n",
       "    .dataframe tbody tr th {\n",
       "        vertical-align: top;\n",
       "    }\n",
       "\n",
       "    .dataframe thead th {\n",
       "        text-align: right;\n",
       "    }\n",
       "</style>\n",
       "<table border=\"1\" class=\"dataframe\">\n",
       "  <thead>\n",
       "    <tr style=\"text-align: right;\">\n",
       "      <th></th>\n",
       "      <th>Label</th>\n",
       "      <th>Degree</th>\n",
       "      <th>Modularity</th>\n",
       "    </tr>\n",
       "  </thead>\n",
       "  <tbody>\n",
       "    <tr>\n",
       "      <td>19</td>\n",
       "      <td>CEG</td>\n",
       "      <td>33</td>\n",
       "      <td>2</td>\n",
       "    </tr>\n",
       "    <tr>\n",
       "      <td>13</td>\n",
       "      <td>CDE</td>\n",
       "      <td>5</td>\n",
       "      <td>2</td>\n",
       "    </tr>\n",
       "    <tr>\n",
       "      <td>52</td>\n",
       "      <td>GAD</td>\n",
       "      <td>4</td>\n",
       "      <td>2</td>\n",
       "    </tr>\n",
       "    <tr>\n",
       "      <td>10</td>\n",
       "      <td>BDF</td>\n",
       "      <td>3</td>\n",
       "      <td>2</td>\n",
       "    </tr>\n",
       "    <tr>\n",
       "      <td>15</td>\n",
       "      <td>CDF</td>\n",
       "      <td>3</td>\n",
       "      <td>2</td>\n",
       "    </tr>\n",
       "    <tr>\n",
       "      <td>17</td>\n",
       "      <td>CE</td>\n",
       "      <td>3</td>\n",
       "      <td>2</td>\n",
       "    </tr>\n",
       "    <tr>\n",
       "      <td>14</td>\n",
       "      <td>CDEG</td>\n",
       "      <td>2</td>\n",
       "      <td>2</td>\n",
       "    </tr>\n",
       "    <tr>\n",
       "      <td>18</td>\n",
       "      <td>CEF</td>\n",
       "      <td>2</td>\n",
       "      <td>2</td>\n",
       "    </tr>\n",
       "    <tr>\n",
       "      <td>20</td>\n",
       "      <td>CF</td>\n",
       "      <td>2</td>\n",
       "      <td>2</td>\n",
       "    </tr>\n",
       "    <tr>\n",
       "      <td>28</td>\n",
       "      <td>DF#A</td>\n",
       "      <td>2</td>\n",
       "      <td>2</td>\n",
       "    </tr>\n",
       "    <tr>\n",
       "      <td>31</td>\n",
       "      <td>DFGA</td>\n",
       "      <td>2</td>\n",
       "      <td>2</td>\n",
       "    </tr>\n",
       "  </tbody>\n",
       "</table>\n",
       "</div>"
      ],
      "text/plain": [
       "   Label  Degree  Modularity\n",
       "19   CEG      33           2\n",
       "13   CDE       5           2\n",
       "52   GAD       4           2\n",
       "10   BDF       3           2\n",
       "15   CDF       3           2\n",
       "17    CE       3           2\n",
       "14  CDEG       2           2\n",
       "18   CEF       2           2\n",
       "20    CF       2           2\n",
       "28  DF#A       2           2\n",
       "31  DFGA       2           2"
      ]
     },
     "execution_count": 5,
     "metadata": {},
     "output_type": "execute_result"
    }
   ],
   "source": [
    "modul[['Label','Degree','Modularity']].query('Modularity == 2').sort_values(by=['Degree'],ascending=False)"
   ]
  },
  {
   "cell_type": "code",
   "execution_count": 6,
   "metadata": {},
   "outputs": [],
   "source": [
    "# Dictionary of modularity classes and relative keys\n",
    "keydict = {0:'C', 1:'G', 2:'C', 3:'C', 4:'C', 5:'C',}"
   ]
  },
  {
   "cell_type": "code",
   "execution_count": 25,
   "metadata": {},
   "outputs": [],
   "source": [
    "# manual control of modulations\n",
    "keychange = {20:'G',84:'G',98:'D',102:'C',154:'F',164:'D'}\n",
    "# manual control of roman numerals\n",
    "altrn = {64:'ii7[no5]',96:'vi7[no5]',147:'I[no3]',151:'iv7[no3]',155:'VII/o9[no3]'}"
   ]
  },
  {
   "cell_type": "code",
   "execution_count": 26,
   "metadata": {},
   "outputs": [
    {
     "name": "stdout",
     "output_type": "stream",
     "text": [
      "modulation at or before chord no.  20\n",
      "modulation at or before chord no.  38\n",
      "modulation at or before chord no.  44\n",
      "modulation at or before chord no.  52\n",
      "modulation at or before chord no.  71\n",
      "modulation at or before chord no.  76\n",
      "modulation at or before chord no.  94\n",
      "modulation at or before chord no.  98\n",
      "modulation at or before chord no.  112\n",
      "modulation at or before chord no.  113\n",
      "modulation at or before chord no.  118\n",
      "modulation at or before chord no.  126\n",
      "modulation at or before chord no.  141\n",
      "modulation at or before chord no.  143\n",
      "modulation at or before chord no.  152\n",
      "modulation at or before chord no.  153\n",
      "modulation at or before chord no.  154\n",
      "modulation at or before chord no.  161\n",
      "modulation at or before chord no.  164\n",
      "check error\n"
     ]
    }
   ],
   "source": [
    "nxt,rn,ops = scoreAnalysis(seq,moduldict,keydict,\n",
    "                           keychange=keychange,altrn=altrn,table='../tonal.harmony.minimal',\n",
    "                           verbose=False)"
   ]
  },
  {
   "cell_type": "code",
   "execution_count": 27,
   "metadata": {},
   "outputs": [],
   "source": [
    "analysis = showAnalysis(nxt,chords,seq,rn,ops,keydict,moduldict,last=False,display=False)"
   ]
  },
  {
   "cell_type": "code",
   "execution_count": 28,
   "metadata": {},
   "outputs": [
    {
     "data": {
      "text/html": [
       "<div>\n",
       "<style scoped>\n",
       "    .dataframe tbody tr th:only-of-type {\n",
       "        vertical-align: middle;\n",
       "    }\n",
       "\n",
       "    .dataframe tbody tr th {\n",
       "        vertical-align: top;\n",
       "    }\n",
       "\n",
       "    .dataframe thead th {\n",
       "        text-align: right;\n",
       "    }\n",
       "</style>\n",
       "<table border=\"1\" class=\"dataframe\">\n",
       "  <thead>\n",
       "    <tr style=\"text-align: right;\">\n",
       "      <th></th>\n",
       "      <th>pcs</th>\n",
       "      <th>chord</th>\n",
       "      <th>rn</th>\n",
       "      <th>ops</th>\n",
       "      <th>key</th>\n",
       "      <th>modul</th>\n",
       "    </tr>\n",
       "  </thead>\n",
       "  <tbody>\n",
       "    <tr>\n",
       "      <td>0</td>\n",
       "      <td>[2, 5, 9]</td>\n",
       "      <td>DFA</td>\n",
       "      <td>ii</td>\n",
       "      <td>O(0,2,2)</td>\n",
       "      <td>C</td>\n",
       "      <td>0</td>\n",
       "    </tr>\n",
       "    <tr>\n",
       "      <td>1</td>\n",
       "      <td>[7, 11, 2]</td>\n",
       "      <td>GBD</td>\n",
       "      <td>V</td>\n",
       "      <td>O(0,1,2)</td>\n",
       "      <td>G</td>\n",
       "      <td>1</td>\n",
       "    </tr>\n",
       "    <tr>\n",
       "      <td>2</td>\n",
       "      <td>[0, 4, 7]</td>\n",
       "      <td>CEG</td>\n",
       "      <td>I</td>\n",
       "      <td>O(0,1,0)</td>\n",
       "      <td>C</td>\n",
       "      <td>2</td>\n",
       "    </tr>\n",
       "    <tr>\n",
       "      <td>3</td>\n",
       "      <td>[5, 7, 0]</td>\n",
       "      <td>FGC</td>\n",
       "      <td>iv52</td>\n",
       "      <td>O(-1,0,0)</td>\n",
       "      <td>C</td>\n",
       "      <td>3</td>\n",
       "    </tr>\n",
       "    <tr>\n",
       "      <td>4</td>\n",
       "      <td>[0, 4, 7]</td>\n",
       "      <td>CEG</td>\n",
       "      <td>I</td>\n",
       "      <td>O(-1,-2,0)</td>\n",
       "      <td>C</td>\n",
       "      <td>2</td>\n",
       "    </tr>\n",
       "    <tr>\n",
       "      <td>...</td>\n",
       "      <td>...</td>\n",
       "      <td>...</td>\n",
       "      <td>...</td>\n",
       "      <td>...</td>\n",
       "      <td>...</td>\n",
       "      <td>...</td>\n",
       "    </tr>\n",
       "    <tr>\n",
       "      <td>159</td>\n",
       "      <td>[2, 5, 9]</td>\n",
       "      <td>DFA</td>\n",
       "      <td>V</td>\n",
       "      <td>O(0,-1,0)</td>\n",
       "      <td>C</td>\n",
       "      <td>0</td>\n",
       "    </tr>\n",
       "    <tr>\n",
       "      <td>160</td>\n",
       "      <td>[2, 4, 9]</td>\n",
       "      <td>DEA</td>\n",
       "      <td>ii52</td>\n",
       "      <td>O(0,0,0,-2)</td>\n",
       "      <td>C</td>\n",
       "      <td>0</td>\n",
       "    </tr>\n",
       "    <tr>\n",
       "      <td>161</td>\n",
       "      <td>[2, 4, 7, 9]</td>\n",
       "      <td>DEGA</td>\n",
       "      <td>iii743</td>\n",
       "      <td>O(-1,0,2,0)</td>\n",
       "      <td>C</td>\n",
       "      <td>0</td>\n",
       "    </tr>\n",
       "    <tr>\n",
       "      <td>162</td>\n",
       "      <td>[9, 1, 4]</td>\n",
       "      <td>AC#E</td>\n",
       "      <td>VI</td>\n",
       "      <td>O(0,1,1)</td>\n",
       "      <td>C</td>\n",
       "      <td>0</td>\n",
       "    </tr>\n",
       "    <tr>\n",
       "      <td>163</td>\n",
       "      <td>[2, 5, 9]</td>\n",
       "      <td>DFA</td>\n",
       "      <td>i</td>\n",
       "      <td>O(0,0,-2)</td>\n",
       "      <td>C</td>\n",
       "      <td>0</td>\n",
       "    </tr>\n",
       "  </tbody>\n",
       "</table>\n",
       "<p>164 rows × 6 columns</p>\n",
       "</div>"
      ],
      "text/plain": [
       "              pcs chord      rn          ops key  modul\n",
       "0       [2, 5, 9]   DFA      ii     O(0,2,2)   C      0\n",
       "1      [7, 11, 2]   GBD       V     O(0,1,2)   G      1\n",
       "2       [0, 4, 7]   CEG       I     O(0,1,0)   C      2\n",
       "3       [5, 7, 0]   FGC    iv52    O(-1,0,0)   C      3\n",
       "4       [0, 4, 7]   CEG       I   O(-1,-2,0)   C      2\n",
       "..            ...   ...     ...          ...  ..    ...\n",
       "159     [2, 5, 9]   DFA       V    O(0,-1,0)   C      0\n",
       "160     [2, 4, 9]   DEA    ii52  O(0,0,0,-2)   C      0\n",
       "161  [2, 4, 7, 9]  DEGA  iii743  O(-1,0,2,0)   C      0\n",
       "162     [9, 1, 4]  AC#E      VI     O(0,1,1)   C      0\n",
       "163     [2, 5, 9]   DFA       i    O(0,0,-2)   C      0\n",
       "\n",
       "[164 rows x 6 columns]"
      ]
     },
     "execution_count": 28,
     "metadata": {},
     "output_type": "execute_result"
    }
   ],
   "source": [
    "analysis"
   ]
  },
  {
   "cell_type": "code",
   "execution_count": 16,
   "metadata": {},
   "outputs": [],
   "source": [
    "analysis.to_csv('analysis.csv')"
   ]
  },
  {
   "cell_type": "code",
   "execution_count": 13,
   "metadata": {},
   "outputs": [
    {
     "data": {
      "text/plain": [
       "[5, 9, 11, 0]"
      ]
     },
     "execution_count": 13,
     "metadata": {},
     "output_type": "execute_result"
    }
   ],
   "source": [
    "seq[155]"
   ]
  },
  {
   "cell_type": "code",
   "execution_count": null,
   "metadata": {},
   "outputs": [],
   "source": []
  }
 ],
 "metadata": {
  "kernelspec": {
   "display_name": "Python 3",
   "language": "python",
   "name": "python3"
  },
  "language_info": {
   "codemirror_mode": {
    "name": "ipython",
    "version": 3
   },
   "file_extension": ".py",
   "mimetype": "text/x-python",
   "name": "python",
   "nbconvert_exporter": "python",
   "pygments_lexer": "ipython3",
   "version": "3.7.4"
  }
 },
 "nbformat": 4,
 "nbformat_minor": 2
}
