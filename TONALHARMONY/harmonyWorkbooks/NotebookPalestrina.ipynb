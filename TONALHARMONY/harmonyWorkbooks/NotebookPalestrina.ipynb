{
 "cells": [
  {
   "cell_type": "markdown",
   "metadata": {},
   "source": [
    "## Workbook of tonal harmony\n",
    "#### Analysis of G.P.da Palestrina Agnus from music21"
   ]
  },
  {
   "cell_type": "code",
   "execution_count": 1,
   "metadata": {},
   "outputs": [
    {
     "data": {
      "text/html": [
       "<div id=\"glowscript\" class=\"glowscript\"></div>"
      ],
      "text/plain": [
       "<IPython.core.display.HTML object>"
      ]
     },
     "metadata": {},
     "output_type": "display_data"
    },
    {
     "data": {
      "application/javascript": [
       "if (typeof Jupyter !== \"undefined\") { window.__context = { glowscript_container: $(\"#glowscript\").removeAttr(\"id\")};}else{ element.textContent = ' ';}"
      ],
      "text/plain": [
       "<IPython.core.display.Javascript object>"
      ]
     },
     "metadata": {},
     "output_type": "display_data"
    }
   ],
   "source": [
    "from pcsPy import *\n",
    "import pickle, copy\n",
    "from IPython.display import Image \n",
    "sys.path.append('../')\n",
    "from tonalHarmonyDefs import enharmonicDictionary, shortHands, scoreAnalysis, tonalPartition, showAnalysis"
   ]
  },
  {
   "cell_type": "markdown",
   "metadata": {},
   "source": [
    "Here we import the tonal model we are going to use for the analysis. A tonal model is the matrix of all the operators that connect the chords of a chord library as roman numerals.\n",
    "Typical models are built using combinations of basic chord symbols and possible extension. \n",
    "\n",
    "Use tonalHarmonyModel.py to generate or modify models"
   ]
  },
  {
   "cell_type": "code",
   "execution_count": 2,
   "metadata": {},
   "outputs": [],
   "source": [
    "score = 'Agnus_I.musicxml'\n",
    "seq,chords = readScore(score,music21=False,show=False)"
   ]
  },
  {
   "cell_type": "code",
   "execution_count": null,
   "metadata": {},
   "outputs": [],
   "source": [
    "chords.show('musicxml')"
   ]
  },
  {
   "cell_type": "code",
   "execution_count": null,
   "metadata": {},
   "outputs": [],
   "source": [
    "# To write chords and corresponding operators - uses musescore\n",
    "WRITEscoreOps(seq,w=True)"
   ]
  },
  {
   "cell_type": "code",
   "execution_count": 3,
   "metadata": {},
   "outputs": [
    {
     "name": "stdout",
     "output_type": "stream",
     "text": [
      "average degree =  2.642857142857143  modularity =  0.36010874938210574\n"
     ]
    }
   ],
   "source": [
    "dnodes,dedges,dcounts,deg,modul,Gx,Gxu = scoreNetwork(seq,ntx=True,general=True)\n",
    "print('average degree = ',deg,' modularity = ',modul)\n",
    "# Write to csv for visualization in Gephi or other network drawing software (see figure below)\n",
    "# dnodes.to_csv('nodes_agnus.csv')\n",
    "# dedges.to_csv('edges_agnus.csv')"
   ]
  },
  {
   "cell_type": "markdown",
   "metadata": {},
   "source": [
    "## ![title](Agnus.png)"
   ]
  },
  {
   "cell_type": "code",
   "execution_count": 31,
   "metadata": {},
   "outputs": [],
   "source": [
    "moduldict,modul = tonalPartition(seq,chords,dnodes,Gx,Gxu,resolution=1.0,display=True)\n",
    "modul.to_csv('~/Desktop/modul.csv')"
   ]
  },
  {
   "cell_type": "code",
   "execution_count": 37,
   "metadata": {
    "code_folding": []
   },
   "outputs": [
    {
     "data": {
      "text/html": [
       "<div>\n",
       "<style scoped>\n",
       "    .dataframe tbody tr th:only-of-type {\n",
       "        vertical-align: middle;\n",
       "    }\n",
       "\n",
       "    .dataframe tbody tr th {\n",
       "        vertical-align: top;\n",
       "    }\n",
       "\n",
       "    .dataframe thead th {\n",
       "        text-align: right;\n",
       "    }\n",
       "</style>\n",
       "<table border=\"1\" class=\"dataframe\">\n",
       "  <thead>\n",
       "    <tr style=\"text-align: right;\">\n",
       "      <th></th>\n",
       "      <th>Label</th>\n",
       "      <th>Degree</th>\n",
       "      <th>Modularity</th>\n",
       "    </tr>\n",
       "  </thead>\n",
       "  <tbody>\n",
       "    <tr>\n",
       "      <td>30</td>\n",
       "      <td>DFG</td>\n",
       "      <td>5</td>\n",
       "      <td>5</td>\n",
       "    </tr>\n",
       "    <tr>\n",
       "      <td>27</td>\n",
       "      <td>DF</td>\n",
       "      <td>3</td>\n",
       "      <td>5</td>\n",
       "    </tr>\n",
       "    <tr>\n",
       "      <td>22</td>\n",
       "      <td>DE</td>\n",
       "      <td>2</td>\n",
       "      <td>5</td>\n",
       "    </tr>\n",
       "    <tr>\n",
       "      <td>26</td>\n",
       "      <td>DEGB-</td>\n",
       "      <td>2</td>\n",
       "      <td>5</td>\n",
       "    </tr>\n",
       "    <tr>\n",
       "      <td>53</td>\n",
       "      <td>GB-D</td>\n",
       "      <td>2</td>\n",
       "      <td>5</td>\n",
       "    </tr>\n",
       "  </tbody>\n",
       "</table>\n",
       "</div>"
      ],
      "text/plain": [
       "    Label  Degree  Modularity\n",
       "30    DFG       5           5\n",
       "27     DF       3           5\n",
       "22     DE       2           5\n",
       "26  DEGB-       2           5\n",
       "53   GB-D       2           5"
      ]
     },
     "execution_count": 37,
     "metadata": {},
     "output_type": "execute_result"
    }
   ],
   "source": [
    "modul[['Label','Degree','Modularity']].query('Modularity == 5').sort_values(by=['Degree'],ascending=False)"
   ]
  },
  {
   "cell_type": "code",
   "execution_count": 48,
   "metadata": {},
   "outputs": [],
   "source": [
    "# Dictionary of modularity classes and relative keys\n",
    "keydict = {0:'C', 1:'G', 2:'C', 3:'C', 4:'C', 5:'G',}"
   ]
  },
  {
   "cell_type": "code",
   "execution_count": 76,
   "metadata": {},
   "outputs": [],
   "source": [
    "# manual control of modulations\n",
    "keychange = {20:'G',98:'D'}\n",
    "# manual control of roman numerals\n",
    "altrn = {64:'ii7[no5]',96:'vi7[no5]'}"
   ]
  },
  {
   "cell_type": "code",
   "execution_count": 77,
   "metadata": {},
   "outputs": [
    {
     "name": "stdout",
     "output_type": "stream",
     "text": [
      "modulation at or before chord no.  20\n",
      "modulation at or before chord no.  38\n",
      "modulation at or before chord no.  44\n",
      "modulation at or before chord no.  52\n",
      "modulation at or before chord no.  94\n",
      "modulation at or before chord no.  98\n",
      "modulation at or before chord no.  112\n",
      "modulation at or before chord no.  126\n",
      "modulation at or before chord no.  134\n",
      "check error\n"
     ]
    }
   ],
   "source": [
    "nxt,rn,ops = scoreAnalysis(seq,moduldict,keydict,keychange=keychange,altrn=altrn,table='../tonal.harmony.minimal')"
   ]
  },
  {
   "cell_type": "code",
   "execution_count": 78,
   "metadata": {},
   "outputs": [],
   "source": [
    "analysis = showAnalysis(nxt,chords,seq,rn,ops,keydict,moduldict,last=False,display=False)"
   ]
  },
  {
   "cell_type": "code",
   "execution_count": 79,
   "metadata": {},
   "outputs": [
    {
     "data": {
      "text/html": [
       "<div>\n",
       "<style scoped>\n",
       "    .dataframe tbody tr th:only-of-type {\n",
       "        vertical-align: middle;\n",
       "    }\n",
       "\n",
       "    .dataframe tbody tr th {\n",
       "        vertical-align: top;\n",
       "    }\n",
       "\n",
       "    .dataframe thead th {\n",
       "        text-align: right;\n",
       "    }\n",
       "</style>\n",
       "<table border=\"1\" class=\"dataframe\">\n",
       "  <thead>\n",
       "    <tr style=\"text-align: right;\">\n",
       "      <th></th>\n",
       "      <th>pcs</th>\n",
       "      <th>chord</th>\n",
       "      <th>rn</th>\n",
       "      <th>ops</th>\n",
       "      <th>key</th>\n",
       "      <th>modul</th>\n",
       "    </tr>\n",
       "  </thead>\n",
       "  <tbody>\n",
       "    <tr>\n",
       "      <td>0</td>\n",
       "      <td>[2, 5, 9]</td>\n",
       "      <td>DFA</td>\n",
       "      <td>ii</td>\n",
       "      <td>O(0,2,2)</td>\n",
       "      <td>C</td>\n",
       "      <td>0</td>\n",
       "    </tr>\n",
       "    <tr>\n",
       "      <td>1</td>\n",
       "      <td>[7, 11, 2]</td>\n",
       "      <td>GBD</td>\n",
       "      <td>V</td>\n",
       "      <td>O(0,1,2)</td>\n",
       "      <td>G</td>\n",
       "      <td>1</td>\n",
       "    </tr>\n",
       "    <tr>\n",
       "      <td>2</td>\n",
       "      <td>[0, 4, 7]</td>\n",
       "      <td>CEG</td>\n",
       "      <td>I</td>\n",
       "      <td>O(0,1,0)</td>\n",
       "      <td>C</td>\n",
       "      <td>2</td>\n",
       "    </tr>\n",
       "    <tr>\n",
       "      <td>3</td>\n",
       "      <td>[5, 7, 0]</td>\n",
       "      <td>FGC</td>\n",
       "      <td>iv52</td>\n",
       "      <td>O(-1,0,0)</td>\n",
       "      <td>G</td>\n",
       "      <td>1</td>\n",
       "    </tr>\n",
       "    <tr>\n",
       "      <td>4</td>\n",
       "      <td>[0, 4, 7]</td>\n",
       "      <td>CEG</td>\n",
       "      <td>I</td>\n",
       "      <td>O(-1,-2,0)</td>\n",
       "      <td>C</td>\n",
       "      <td>2</td>\n",
       "    </tr>\n",
       "    <tr>\n",
       "      <td>...</td>\n",
       "      <td>...</td>\n",
       "      <td>...</td>\n",
       "      <td>...</td>\n",
       "      <td>...</td>\n",
       "      <td>...</td>\n",
       "      <td>...</td>\n",
       "    </tr>\n",
       "    <tr>\n",
       "      <td>129</td>\n",
       "      <td>[5, 9, 0]</td>\n",
       "      <td>FAC</td>\n",
       "      <td>IV</td>\n",
       "      <td>O(0,0,0)</td>\n",
       "      <td>C</td>\n",
       "      <td>4</td>\n",
       "    </tr>\n",
       "    <tr>\n",
       "      <td>130</td>\n",
       "      <td>[5, 9, 0]</td>\n",
       "      <td>FAC</td>\n",
       "      <td>IV</td>\n",
       "      <td>O(0,0,-2,-1)</td>\n",
       "      <td>C</td>\n",
       "      <td>4</td>\n",
       "    </tr>\n",
       "    <tr>\n",
       "      <td>131</td>\n",
       "      <td>[5, 7, 11, 0]</td>\n",
       "      <td>FGBC</td>\n",
       "      <td>V743</td>\n",
       "      <td>O(-1,2,1,0)</td>\n",
       "      <td>C</td>\n",
       "      <td>4</td>\n",
       "    </tr>\n",
       "    <tr>\n",
       "      <td>132</td>\n",
       "      <td>[9, 0, 4]</td>\n",
       "      <td>ACE</td>\n",
       "      <td>vi</td>\n",
       "      <td>O(2,0,2,0)</td>\n",
       "      <td>C</td>\n",
       "      <td>3</td>\n",
       "    </tr>\n",
       "    <tr>\n",
       "      <td>133</td>\n",
       "      <td>[11, 0, 2, 4]</td>\n",
       "      <td>BCDE</td>\n",
       "      <td>I732</td>\n",
       "      <td>O(1,0,2,3)</td>\n",
       "      <td>C</td>\n",
       "      <td>3</td>\n",
       "    </tr>\n",
       "  </tbody>\n",
       "</table>\n",
       "<p>134 rows × 6 columns</p>\n",
       "</div>"
      ],
      "text/plain": [
       "               pcs chord    rn           ops key  modul\n",
       "0        [2, 5, 9]   DFA    ii      O(0,2,2)   C      0\n",
       "1       [7, 11, 2]   GBD     V      O(0,1,2)   G      1\n",
       "2        [0, 4, 7]   CEG     I      O(0,1,0)   C      2\n",
       "3        [5, 7, 0]   FGC  iv52     O(-1,0,0)   G      1\n",
       "4        [0, 4, 7]   CEG     I    O(-1,-2,0)   C      2\n",
       "..             ...   ...   ...           ...  ..    ...\n",
       "129      [5, 9, 0]   FAC    IV      O(0,0,0)   C      4\n",
       "130      [5, 9, 0]   FAC    IV  O(0,0,-2,-1)   C      4\n",
       "131  [5, 7, 11, 0]  FGBC  V743   O(-1,2,1,0)   C      4\n",
       "132      [9, 0, 4]   ACE    vi    O(2,0,2,0)   C      3\n",
       "133  [11, 0, 2, 4]  BCDE  I732    O(1,0,2,3)   C      3\n",
       "\n",
       "[134 rows x 6 columns]"
      ]
     },
     "execution_count": 79,
     "metadata": {},
     "output_type": "execute_result"
    }
   ],
   "source": [
    "analysis"
   ]
  },
  {
   "cell_type": "code",
   "execution_count": 80,
   "metadata": {},
   "outputs": [
    {
     "data": {
      "text/plain": [
       "[0, 4, 7]"
      ]
     },
     "execution_count": 80,
     "metadata": {},
     "output_type": "execute_result"
    }
   ],
   "source": [
    "seq[134]"
   ]
  },
  {
   "cell_type": "code",
   "execution_count": null,
   "metadata": {},
   "outputs": [],
   "source": []
  }
 ],
 "metadata": {
  "kernelspec": {
   "display_name": "Python 3",
   "language": "python",
   "name": "python3"
  },
  "language_info": {
   "codemirror_mode": {
    "name": "ipython",
    "version": 3
   },
   "file_extension": ".py",
   "mimetype": "text/x-python",
   "name": "python",
   "nbconvert_exporter": "python",
   "pygments_lexer": "ipython3",
   "version": "3.7.4"
  }
 },
 "nbformat": 4,
 "nbformat_minor": 2
}
