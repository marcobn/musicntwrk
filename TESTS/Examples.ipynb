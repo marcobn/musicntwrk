{
 "cells": [
  {
   "cell_type": "markdown",
   "metadata": {},
   "source": [
    "## pcsPy/rhythmPy/sonifiPy/TimbrePy\n",
    "\n",
    " A python library for pitch class set and rhythmic sequences classification and manipulation,\n",
    " the generation of networks in generalized musical spaces, and the sonification of arbitrary data\n",
    "\n",
    " Copyright (C) 2018,2019 Marco Buongiorno Nardelli\n",
    " http://www.materialssoundmusic.com, mbn@unt.edu\n",
    "\n",
    " This file is distributed under the terms of the\n",
    " GNU General Public License. See the file `License'\n",
    " in the root directory of the present distribution,\n",
    " or http://www.gnu.org/copyleft/gpl.txt .\n",
    "\n",
    "The network files in csv format can be directly imported in visualization programs like Gephi (www.gephi.org)\n",
    "\n",
    "Results can be compared with reference files in /REFERENCE"
   ]
  },
  {
   "cell_type": "markdown",
   "metadata": {},
   "source": [
    "#### the following modules should be present in the python distribution (via pip install or equivalent):\n",
    "mpi4py - needs an active mpi environment (openmpi or equivalent - it might also require mpich) <br>\n",
    "music21<br>\n",
    "pyo<br>\n",
    "wxPytho<br>\n",
    "librosa<br>\n",
    "vpython<br>\n",
    "python-louvain<br>\n",
    "pandas<br>\n",
    "scikit-learn<br>\n",
    "networkx<br>\n",
    "tensorflow<br>\n",
    "pyliblo - needs the installation of the liblo library<br>\n",
    "bs4<br>\n",
    "wget<br>\n",
    "\n",
    "Import modules - pcsPy, rhythmPy, sonifiPy and timbrePy need the correct path"
   ]
  },
  {
   "cell_type": "code",
   "execution_count": 1,
   "metadata": {},
   "outputs": [
    {
     "data": {
      "text/html": [
       "<div id=\"glowscript\" class=\"glowscript\"></div>"
      ],
      "text/plain": [
       "<IPython.core.display.HTML object>"
      ]
     },
     "metadata": {},
     "output_type": "display_data"
    },
    {
     "data": {
      "application/javascript": [
       "if (typeof Jupyter !== \"undefined\") { window.__context = { glowscript_container: $(\"#glowscript\").removeAttr(\"id\")};}else{ element.textContent = ' ';}"
      ],
      "text/plain": [
       "<IPython.core.display.Javascript object>"
      ]
     },
     "metadata": {},
     "output_type": "display_data"
    },
    {
     "name": "stderr",
     "output_type": "stream",
     "text": [
      "/Applications/anaconda3/lib/python3.7/site-packages/sklearn/externals/joblib/__init__.py:15: DeprecationWarning: sklearn.externals.joblib is deprecated in 0.21 and will be removed in 0.23. Please import this functionality directly from joblib, which can be installed with: pip install joblib. If this warning is raised when loading pickled models, you may need to re-serialize those models with scikit-learn 0.21+.\n",
      "  warnings.warn(msg, category=DeprecationWarning)\n"
     ]
    }
   ],
   "source": [
    "import warnings\n",
    "warnings.filterwarnings(\"ignore\", message=\"numpy.dtype size changed\")\n",
    "warnings.filterwarnings(\"ignore\", message=\"numpy.ufunc size changed\")\n",
    "\n",
    "import re, sys, os\n",
    "\n",
    "sys.path.append('/Users/marco/Dropbox (Personal)/Musica/Applications/musicntwrk')\n",
    "from pcsPy import *\n",
    "from rhythmPy import *\n",
    "from sonifiPy import *\n",
    "from timbrePy import*"
   ]
  },
  {
   "cell_type": "markdown",
   "metadata": {},
   "source": [
    "Generation and classification of the full dictionary of pcs of cardinality 2 to 12 in 12TET"
   ]
  },
  {
   "cell_type": "code",
   "execution_count": null,
   "metadata": {},
   "outputs": [],
   "source": [
    "full =  None\n",
    "z = None\n",
    "temp = []\n",
    "for i in range(2,13):\n",
    "    full,z = pcsDictionary(i,TET=12)\n",
    "    temp.append(full)\n",
    "full = pd.concat(temp,axis=0)\n",
    "full.to_csv('12TET_dictionary.csv',index=False)"
   ]
  },
  {
   "cell_type": "markdown",
   "metadata": {},
   "source": [
    "Generation of the network based on the interval vector distances between 1 and 3"
   ]
  },
  {
   "cell_type": "code",
   "execution_count": null,
   "metadata": {},
   "outputs": [],
   "source": [
    "# in output it writes: nodes.csv, edges.csv\n",
    "dnodes, dedges = pcsNetwork('12TET_dictionary.csv',thup=3.1,thdw=1.1)"
   ]
  },
  {
   "cell_type": "markdown",
   "metadata": {},
   "source": [
    "Generation of the ego network based on the interval vector distance from node _7-34_ (major scale)"
   ]
  },
  {
   "cell_type": "code",
   "execution_count": null,
   "metadata": {},
   "outputs": [],
   "source": [
    "# in output it writes: nodes_ego.csv, edges_ego.csv, edges_alters.csv\n",
    "pcsEgoNetwork('7-34','12TET_dictionary.csv',thup_e=3.0,thdw_e=0.1,thup=1.5,thdw=0.1)"
   ]
  },
  {
   "cell_type": "markdown",
   "metadata": {},
   "source": [
    "generation of voice leading network for the panchromatic triadic space based on the interval vector distance for __O__(1)<br>"
   ]
  },
  {
   "cell_type": "code",
   "execution_count": null,
   "metadata": {},
   "outputs": [],
   "source": [
    "full,z = pcsDictionary(3,TET=12,order=1)\n",
    "full.to_csv('triads.csv',index=False)\n",
    "dnodes,dedges = vLeadNetwork('triads.csv',thup=1.5,thdw=0.1)\n",
    "dnodes.to_csv('vLead_nodes.csv',index=False)\n",
    "dedges.to_csv('vLead_edges.csv',index=False)"
   ]
  },
  {
   "cell_type": "markdown",
   "metadata": {},
   "source": [
    "Anaysis of J.S. Bach chorale from BWV66<br>\n",
    "musicxml file from music21 corpus"
   ]
  },
  {
   "cell_type": "code",
   "execution_count": null,
   "metadata": {},
   "outputs": [],
   "source": [
    "bachChorale = m21.corpus.parse('bwv66.6')\n",
    "chords = bachChorale.chordify()\n",
    "seq = []\n",
    "for c in chords.recurse().getElementsByClass('Chord'):\n",
    "    seq.append(c.normalOrder)\n",
    "\n",
    "## show annotated score\n",
    "for c in chords.recurse().getElementsByClass('Chord'):\n",
    "    c.closedPosition(forceOctave=4, inPlace=True)\n",
    "    c.annotateIntervals()\n",
    "# bachChorale.show('musicxml')\n",
    "bachChorale.show()\n",
    "\n",
    "# build dictionary\n",
    "dictionary = scoreDictionary(seq)\n",
    "dictionary.to_csv('bachChorale.csv',index=False)\n",
    "\n",
    "# build network\n",
    "dnodes,dedges,deg,modul = scoreNetwork(seq)\n",
    "dnodes.to_csv('JSB_nodes.csv',index=False)\n",
    "dedges.to_csv('JSB_edges.csv',index=False)"
   ]
  },
  {
   "cell_type": "markdown",
   "metadata": {},
   "source": [
    "Generation and classification of the rhythmic cells  of cardinality 3 in a given sequence"
   ]
  },
  {
   "cell_type": "code",
   "execution_count": null,
   "metadata": {},
   "outputs": [],
   "source": [
    "dictionary,_ = rhythmDictionary(3,a=['q','q','e','e','ed','s'],REF='s')\n",
    "dictionary.to_csv('rhythm.csv',index=False)"
   ]
  },
  {
   "cell_type": "markdown",
   "metadata": {},
   "source": [
    "Generation of the network based on the duration interval vector"
   ]
  },
  {
   "cell_type": "code",
   "execution_count": null,
   "metadata": {},
   "outputs": [],
   "source": [
    "nodes,edges = rhythmNetwork('rhythm.csv',thup=50,thdw=0.1)"
   ]
  },
  {
   "cell_type": "markdown",
   "metadata": {},
   "source": [
    "Generation of voice leading network for the cells of cardinality 3 of the rhythmic sequence above"
   ]
  },
  {
   "cell_type": "code",
   "execution_count": null,
   "metadata": {},
   "outputs": [],
   "source": [
    "rnodes,redges = rLeadNetwork('rhythm.csv',thup=50,thdw=0.1)\n",
    "rnodes.to_csv('rLead_nodes.csv',index=False)\n",
    "redges.to_csv('rLead_edges.csv',index=False)"
   ]
  },
  {
   "cell_type": "markdown",
   "metadata": {},
   "source": [
    "Spectral sonification of data using a FIR filter (requires data file and an installation of pyo on the system)"
   ]
  },
  {
   "cell_type": "code",
   "execution_count": 3,
   "metadata": {},
   "outputs": [
    {
     "data": {
      "text/html": [
       "<div id=\"glowscript\" class=\"glowscript\"></div>"
      ],
      "text/plain": [
       "<IPython.core.display.HTML object>"
      ]
     },
     "metadata": {},
     "output_type": "display_data"
    },
    {
     "data": {
      "application/javascript": [
       "if (typeof Jupyter !== \"undefined\") { window.__context = { glowscript_container: $(\"#glowscript\").removeAttr(\"id\")};}else{ element.textContent = ' ';}"
      ],
      "text/plain": [
       "<IPython.core.display.Javascript object>"
      ]
     },
     "metadata": {},
     "output_type": "display_data"
    },
    {
     "data": {
      "application/javascript": [
       "if (typeof Jupyter !== \"undefined\") {require.undef(\"nbextensions/vpython_libraries/glow.min\");}else{element.textContent = ' ';}"
      ],
      "text/plain": [
       "<IPython.core.display.Javascript object>"
      ]
     },
     "metadata": {},
     "output_type": "display_data"
    },
    {
     "data": {
      "application/javascript": [
       "if (typeof Jupyter !== \"undefined\") {require.undef(\"nbextensions/vpython_libraries/glowcomm\");}else{element.textContent = ' ';}"
      ],
      "text/plain": [
       "<IPython.core.display.Javascript object>"
      ]
     },
     "metadata": {},
     "output_type": "display_data"
    },
    {
     "data": {
      "application/javascript": [
       "if (typeof Jupyter !== \"undefined\") {require.undef(\"nbextensions/vpython_libraries/jquery-ui.custom.min\");}else{element.textContent = ' ';}"
      ],
      "text/plain": [
       "<IPython.core.display.Javascript object>"
      ]
     },
     "metadata": {},
     "output_type": "display_data"
    },
    {
     "data": {
      "application/javascript": [
       "if (typeof Jupyter !== \"undefined\") {require([\"nbextensions/vpython_libraries/glow.min\"], function(){console.log(\"GLOW LOADED\");});}else{element.textContent = ' ';}"
      ],
      "text/plain": [
       "<IPython.core.display.Javascript object>"
      ]
     },
     "metadata": {},
     "output_type": "display_data"
    },
    {
     "data": {
      "application/javascript": [
       "if (typeof Jupyter !== \"undefined\") {require([\"nbextensions/vpython_libraries/glowcomm\"], function(){console.log(\"GLOWCOMM LOADED\");});}else{element.textContent = ' ';}"
      ],
      "text/plain": [
       "<IPython.core.display.Javascript object>"
      ]
     },
     "metadata": {},
     "output_type": "display_data"
    },
    {
     "data": {
      "application/javascript": [
       "if (typeof Jupyter !== \"undefined\") {require([\"nbextensions/vpython_libraries/jquery-ui.custom.min\"], function(){console.log(\"JQUERY LOADED\");});}else{element.textContent = ' ';}"
      ],
      "text/plain": [
       "<IPython.core.display.Javascript object>"
      ]
     },
     "metadata": {},
     "output_type": "display_data"
    },
    {
     "name": "stdout",
     "output_type": "stream",
     "text": [
      "Pyo warning: Portmidi warning: no midi device found!\n",
      "Portmidi closed.\n"
     ]
    }
   ],
   "source": [
    "path = './'\n",
    "infile = 'ZnO.dat'\n",
    "xv, y = r_1Ddata(path,infile)\n",
    "plotCurveXY(xv,y[0,:])\n",
    "# plt.plot(xv,y[0,:])\n",
    "# plt.show()\n",
    "s,a = i_spectral_pyo(xv,y[0])\n",
    "s.start()\n",
    "time.sleep(5)\n",
    "s.stop()\n",
    "s.shutdown()"
   ]
  },
  {
   "cell_type": "markdown",
   "metadata": {},
   "source": [
    "Sonification of data from file in csv format (requires data file)"
   ]
  },
  {
   "cell_type": "code",
   "execution_count": null,
   "metadata": {},
   "outputs": [],
   "source": [
    "data = pd.read_csv(\"flux treeline Dolomites 2000.csv\")\n",
    "pdt = np.asarray(data)[4170:4230,2]\n",
    "plotCurveY(pdt)\n",
    "scale, nnote = scaleMapping('interval',ini=62,fin=92)\n",
    "MIDIscore(MIDImap(pdt,scale,nnote)-12,dur=4,w=None)\n",
    "MIDImidi(MIDImap(pdt,scale,nnote)-12,dur=8,vnorm=80)"
   ]
  },
  {
   "cell_type": "markdown",
   "metadata": {},
   "source": [
    "Example of orchestration analysis - JS Bach 2nd Brandenburg Concerto, BWV 1047, Allegro"
   ]
  },
  {
   "cell_type": "code",
   "execution_count": null,
   "metadata": {},
   "outputs": [],
   "source": [
    "score,orch,num = orchestralVector('BWV1047-Allegro.mxl')\n",
    "dnodes,dedges,avgdeg,modul,part = orchestralNetwork(orch)\n",
    "orchestralVectorColor(orch,dnodes,part,color=plt.cm.Set1)"
   ]
  },
  {
   "cell_type": "code",
   "execution_count": null,
   "metadata": {},
   "outputs": [],
   "source": []
  }
 ],
 "metadata": {
  "kernelspec": {
   "display_name": "Python 3",
   "language": "python",
   "name": "python3"
  },
  "language_info": {
   "codemirror_mode": {
    "name": "ipython",
    "version": 3
   },
   "file_extension": ".py",
   "mimetype": "text/x-python",
   "name": "python",
   "nbconvert_exporter": "python",
   "pygments_lexer": "ipython3",
   "version": "3.7.4"
  }
 },
 "nbformat": 4,
 "nbformat_minor": 2
}
